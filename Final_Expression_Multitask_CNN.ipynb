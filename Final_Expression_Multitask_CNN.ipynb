{
  "nbformat": 4,
  "nbformat_minor": 0,
  "metadata": {
    "accelerator": "GPU",
    "colab": {
      "name": "Final-Expression Multitask CNN.ipynb",
      "provenance": [],
      "collapsed_sections": [],
      "include_colab_link": true
    },
    "kernelspec": {
      "display_name": "Python 3",
      "name": "python3"
    }
  },
  "cells": [
    {
      "cell_type": "markdown",
      "metadata": {
        "id": "view-in-github",
        "colab_type": "text"
      },
      "source": [
        "<a href=\"https://colab.research.google.com/github/dshenker/ML2020FinalProject/blob/main/Final_Expression_Multitask_CNN.ipynb\" target=\"_parent\"><img src=\"https://colab.research.google.com/assets/colab-badge.svg\" alt=\"Open In Colab\"/></a>"
      ]
    },
    {
      "cell_type": "code",
      "metadata": {
        "id": "tVz5QRgYkAtJ"
      },
      "source": [
        "import torch\n",
        "import numpy as np\n",
        "import pandas as pd\n",
        "from torch.utils.data import Dataset, DataLoader, random_split\n",
        "import matplotlib.pyplot as plt\n",
        "from sklearn.linear_model import LogisticRegression\n",
        "from sklearn.preprocessing import OneHotEncoder, LabelEncoder, MinMaxScaler, normalize\n",
        "from sklearn.model_selection import train_test_split\n",
        "from sklearn.metrics import mean_squared_error\n",
        "from sklearn.metrics import confusion_matrix, classification_report\n",
        "from skimage import transform\n",
        "from torchvision import models"
      ],
      "execution_count": 123,
      "outputs": []
    },
    {
      "cell_type": "code",
      "metadata": {
        "colab": {
          "base_uri": "https://localhost:8080/"
        },
        "id": "J_KY46-4VFC4",
        "outputId": "dc97eba5-f684-402e-9a50-15fa26867bea"
      },
      "source": [
        "!apt-get install build-essential cmake\n",
        "!apt-get install libopenblas-dev liblapack-dev \n",
        "!pip3 install dlib\n",
        "import dlib"
      ],
      "execution_count": 124,
      "outputs": [
        {
          "output_type": "stream",
          "text": [
            "Reading package lists... Done\n",
            "Building dependency tree       \n",
            "Reading state information... Done\n",
            "build-essential is already the newest version (12.4ubuntu1).\n",
            "cmake is already the newest version (3.10.2-1ubuntu2.18.04.1).\n",
            "0 upgraded, 0 newly installed, 0 to remove and 14 not upgraded.\n",
            "Reading package lists... Done\n",
            "Building dependency tree       \n",
            "Reading state information... Done\n",
            "liblapack-dev is already the newest version (3.7.1-4ubuntu1).\n",
            "libopenblas-dev is already the newest version (0.2.20+ds-4).\n",
            "0 upgraded, 0 newly installed, 0 to remove and 14 not upgraded.\n",
            "Requirement already satisfied: dlib in /usr/local/lib/python3.6/dist-packages (19.18.0)\n"
          ],
          "name": "stdout"
        }
      ]
    },
    {
      "cell_type": "code",
      "metadata": {
        "colab": {
          "base_uri": "https://localhost:8080/"
        },
        "id": "AtHv5RKbWLW1",
        "outputId": "ae90f0b9-38cc-482c-a34c-80343d6a8440"
      },
      "source": [
        "device = torch.device('cuda' if torch.cuda.is_available() else 'cpu')\n",
        "device"
      ],
      "execution_count": 125,
      "outputs": [
        {
          "output_type": "execute_result",
          "data": {
            "text/plain": [
              "device(type='cuda')"
            ]
          },
          "metadata": {
            "tags": []
          },
          "execution_count": 125
        }
      ]
    },
    {
      "cell_type": "code",
      "metadata": {
        "colab": {
          "base_uri": "https://localhost:8080/"
        },
        "id": "0x7H6Ix6WVtr",
        "outputId": "25c90885-0d0f-4707-af46-ef4b1c8142a3"
      },
      "source": [
        "from google.colab import drive\n",
        "drive.mount('/content/drive') #May need to add image_dataset.npz as shortcut to your \"MyDrive\", then cd into your MyDrive"
      ],
      "execution_count": 126,
      "outputs": [
        {
          "output_type": "stream",
          "text": [
            "Drive already mounted at /content/drive; to attempt to forcibly remount, call drive.mount(\"/content/drive\", force_remount=True).\n"
          ],
          "name": "stdout"
        }
      ]
    },
    {
      "cell_type": "code",
      "metadata": {
        "colab": {
          "base_uri": "https://localhost:8080/"
        },
        "id": "YGa1TVgNWfAS",
        "outputId": "4765974f-362a-477a-cc57-3abf67e97875"
      },
      "source": [
        "!ls drive/MyDrive/ML_Final"
      ],
      "execution_count": 127,
      "outputs": [
        {
          "output_type": "stream",
          "text": [
            "'Confusion Matrices Tables.gdoc'    image_dataset_yale.npz\n",
            "'Copy of ML Presentation.gslides'  'ML Presentation.gslides'\n",
            " Data_Splits\t\t\t    Models\n",
            " facial_expressions-master\t    shape_predictor_68_face_landmarks.dat\n",
            " Figures\t\t\t    SVM_ConfusionMatrix.png\n",
            " github_labels_post.npy\t\t    SVM_Learning_Curve_Final.png\n",
            " image_dataset.npz\t\t    Upsampled_Data\n",
            "'image_dataset_upsample (1).npz'    yale_data\n",
            " image_dataset_upsample_final.npz   Yale_labels.npy\n",
            " image_dataset_upsample.npz\n"
          ],
          "name": "stdout"
        }
      ]
    },
    {
      "cell_type": "code",
      "metadata": {
        "id": "mDvURTGOlAX_"
      },
      "source": [
        "class Dataset(Dataset):\n",
        "    \n",
        "    def __init__(self, file_path,detector_path):\n",
        "        data = np.load(file_path,allow_pickle=True)\n",
        "        landmark_detector = dlib.shape_predictor(detector_path)\n",
        "        self.features = data[\"x\"]\n",
        "        print(self.features.shape)\n",
        "\n",
        "        ## Regenerating Facial Landmarks\n",
        "        self.landmarks = []\n",
        "        for img in self.features:\n",
        "          rect = dlib.rectangle(0,0,img.shape[1],img.shape[0])\n",
        "          landmark_curr = landmark_detector(img,rect)\n",
        "          temp = [i.x for i in landmark_curr.parts()]\n",
        "          for i in landmark_curr.parts():\n",
        "            temp.append(i.y)\n",
        "          self.landmarks.append(temp)\n",
        "        self.landmarks = np.array(self.landmarks)\n",
        "\n",
        "        ### Demonstrating the regenerated facial landmarks, uncomment to see a sample\n",
        "        # test_im = self.features[0]\n",
        "        # test_pts = self.landmarks[0]\n",
        "        # plt.figure()\n",
        "        # plt.imshow(test_im,cmap='gray', vmin=0, vmax=255)\n",
        "        # for i in range(68):\n",
        "        #   plt.scatter(test_pts[i],test_pts[i+68],s=2,c='r')\n",
        "        #####\n",
        "\n",
        "        ## Scaling and normalizing features\n",
        "        self.features = self.features.astype(np.float32) / 255.0\n",
        "        sum_m,sum_std = 0,0\n",
        "        for img in self.features:\n",
        "          sum_m += img.mean()\n",
        "          sum_std += img.std()\n",
        "        m = sum_m / self.features.shape[0]\n",
        "        s = sum_std / self.features.shape[0]\n",
        "\n",
        "        ### Duplicating to 3 channels -- choosing not to resize\n",
        "        imgs_arr = []\n",
        "        for img in self.features:\n",
        "        #  new_im = transform.resize(img,(224,224))\n",
        "        ## each needs three \"channels\"\n",
        "           imgs_arr.append([img,img,img])\n",
        "        self.features = np.array(imgs_arr)\n",
        "        \n",
        "        #showing updated shape\n",
        "        print(self.features.shape)\n",
        "        self.features = (self.features - m) / s\n",
        "        self.labels = data[\"y\"]\n",
        "    def __len__(self):\n",
        "        return len(self.labels)\n",
        "    def __getitem__(self, index):\n",
        "        feature = np.expand_dims(self.features[index,:,:],0)\n",
        "        label = self.labels[index]\n",
        "        pts = self.landmarks[index]\n",
        "        return feature, label, pts"
      ],
      "execution_count": 128,
      "outputs": []
    },
    {
      "cell_type": "code",
      "metadata": {
        "colab": {
          "base_uri": "https://localhost:8080/"
        },
        "id": "eK48eQXOlFaD",
        "outputId": "b2e384d6-49bd-4665-c65d-5f95f72fc982"
      },
      "source": [
        "data = Dataset(\"drive/MyDrive/ML_Final/image_dataset_upsample_final.npz\",'drive/MyDrive/ML_Final/shape_predictor_68_face_landmarks.dat')\n",
        "train_size = int(0.8*len(data))\n",
        "dev_size = int(0.1*len(data))\n",
        "test_size = len(data) - train_size - dev_size"
      ],
      "execution_count": 129,
      "outputs": [
        {
          "output_type": "stream",
          "text": [
            "(1500, 350, 350)\n",
            "(1500, 3, 350, 350)\n"
          ],
          "name": "stdout"
        }
      ]
    },
    {
      "cell_type": "code",
      "metadata": {
        "colab": {
          "base_uri": "https://localhost:8080/"
        },
        "id": "Y7Znc0xylQz1",
        "outputId": "bc6c73c2-d579-4126-cd3b-37e880be19f1"
      },
      "source": [
        "#classes and the number per each class\n",
        "np.unique(data.labels,return_counts=True)"
      ],
      "execution_count": 130,
      "outputs": [
        {
          "output_type": "execute_result",
          "data": {
            "text/plain": [
              "(array([0, 1, 2, 3, 4]), array([300, 300, 300, 300, 300]))"
            ]
          },
          "metadata": {
            "tags": []
          },
          "execution_count": 130
        }
      ]
    },
    {
      "cell_type": "code",
      "metadata": {
        "id": "DbeaCxSblYZm"
      },
      "source": [
        "train_data, dev_data, test_data = random_split(data, [train_size,dev_size,test_size],generator=torch.Generator().manual_seed(111))\n",
        "trainloader = DataLoader(train_data, batch_size=64, shuffle=True,drop_last=False)\n",
        "evalloader = DataLoader(train_data, batch_size=1, shuffle=True,drop_last=False)\n",
        "devloader = DataLoader(dev_data, batch_size=1, shuffle=True,drop_last=False)\n",
        "testloader = DataLoader(test_data, batch_size=1, shuffle=True,drop_last=False)"
      ],
      "execution_count": 131,
      "outputs": []
    },
    {
      "cell_type": "code",
      "metadata": {
        "id": "07edAfbOEADn"
      },
      "source": [
        "#You can run this before retraining after model changes to delete and ensure cache is cleared\n",
        "del mtl\n",
        "torch.cuda.empty_cache()"
      ],
      "execution_count": 148,
      "outputs": []
    },
    {
      "cell_type": "code",
      "metadata": {
        "colab": {
          "base_uri": "https://localhost:8080/"
        },
        "id": "4Zyv78ZTnILv",
        "outputId": "f78a86a7-1432-4e80-9b11-3c66a9ed5bfe"
      },
      "source": [
        "import torch\n",
        "import torch.nn as nn\n",
        "import torch.optim as optim\n",
        "\n",
        "class MultiTaskLoss(nn.Module):\n",
        "    def __init__(self, model):\n",
        "        super(MultiTaskLoss, self).__init__()\n",
        "        self.model = model\n",
        "        self.cross_entropy = nn.CrossEntropyLoss()\n",
        "        self.mse = nn.MSELoss()\n",
        "        #empirically determined ratio based on preruns\n",
        "        self.wt = nn.Parameter(torch.tensor([37.5]))\n",
        "\n",
        "\n",
        "    def forward(self, input, labels, points):\n",
        "        outputs = self.model(input)\n",
        "        loss = 0\n",
        "        for i in range(len(outputs[0])):\n",
        "          loss += self.wt * (self.cross_entropy(outputs[0][i].view(1,5),labels[i].view(1).long()))\n",
        "          loss += (self.mse(outputs[1][i].view(1,136),points[i].view(1,-1))) / self.wt\n",
        "        return loss / len(outputs[0])\n",
        "\n",
        "\n",
        "\n",
        "class MultiTaskModel(nn.Module):\n",
        "    def __init__(self):\n",
        "        super(MultiTaskModel, self).__init__()\n",
        "        #initial extractor prior to global average pooling\n",
        "        self.extractor = list(models.resnet18(pretrained=True).children())[:-2]\n",
        "        self.extractor = nn.Sequential(*self.extractor)\n",
        "\n",
        "        self.gap = torch.nn.AdaptiveAvgPool2d((1,1))\n",
        "        self.fc = torch.nn.Linear(512,5)\n",
        "\n",
        "        self.p_fc = torch.nn.Linear(512*11*11,136)\n",
        "        \n",
        "\n",
        "\n",
        "    def forward(self, input):\n",
        "        x = self.extractor(input)\n",
        "        y = self.p_fc(x.view(-1,512*11*11))\n",
        "        x = self.gap(x)\n",
        "        x = self.fc(x.view(-1,512))\n",
        "        label,points = x.view(-1,5), y.view(-1,136)\n",
        "        return label,points\n",
        "\n",
        "#sending to CUDA\n",
        "mtl = MultiTaskLoss(model=MultiTaskModel())\n",
        "mtl.to(device)\n",
        "mtl.model.to(device)"
      ],
      "execution_count": 149,
      "outputs": [
        {
          "output_type": "execute_result",
          "data": {
            "text/plain": [
              "MultiTaskModel(\n",
              "  (extractor): Sequential(\n",
              "    (0): Conv2d(3, 64, kernel_size=(7, 7), stride=(2, 2), padding=(3, 3), bias=False)\n",
              "    (1): BatchNorm2d(64, eps=1e-05, momentum=0.1, affine=True, track_running_stats=True)\n",
              "    (2): ReLU(inplace=True)\n",
              "    (3): MaxPool2d(kernel_size=3, stride=2, padding=1, dilation=1, ceil_mode=False)\n",
              "    (4): Sequential(\n",
              "      (0): BasicBlock(\n",
              "        (conv1): Conv2d(64, 64, kernel_size=(3, 3), stride=(1, 1), padding=(1, 1), bias=False)\n",
              "        (bn1): BatchNorm2d(64, eps=1e-05, momentum=0.1, affine=True, track_running_stats=True)\n",
              "        (relu): ReLU(inplace=True)\n",
              "        (conv2): Conv2d(64, 64, kernel_size=(3, 3), stride=(1, 1), padding=(1, 1), bias=False)\n",
              "        (bn2): BatchNorm2d(64, eps=1e-05, momentum=0.1, affine=True, track_running_stats=True)\n",
              "      )\n",
              "      (1): BasicBlock(\n",
              "        (conv1): Conv2d(64, 64, kernel_size=(3, 3), stride=(1, 1), padding=(1, 1), bias=False)\n",
              "        (bn1): BatchNorm2d(64, eps=1e-05, momentum=0.1, affine=True, track_running_stats=True)\n",
              "        (relu): ReLU(inplace=True)\n",
              "        (conv2): Conv2d(64, 64, kernel_size=(3, 3), stride=(1, 1), padding=(1, 1), bias=False)\n",
              "        (bn2): BatchNorm2d(64, eps=1e-05, momentum=0.1, affine=True, track_running_stats=True)\n",
              "      )\n",
              "    )\n",
              "    (5): Sequential(\n",
              "      (0): BasicBlock(\n",
              "        (conv1): Conv2d(64, 128, kernel_size=(3, 3), stride=(2, 2), padding=(1, 1), bias=False)\n",
              "        (bn1): BatchNorm2d(128, eps=1e-05, momentum=0.1, affine=True, track_running_stats=True)\n",
              "        (relu): ReLU(inplace=True)\n",
              "        (conv2): Conv2d(128, 128, kernel_size=(3, 3), stride=(1, 1), padding=(1, 1), bias=False)\n",
              "        (bn2): BatchNorm2d(128, eps=1e-05, momentum=0.1, affine=True, track_running_stats=True)\n",
              "        (downsample): Sequential(\n",
              "          (0): Conv2d(64, 128, kernel_size=(1, 1), stride=(2, 2), bias=False)\n",
              "          (1): BatchNorm2d(128, eps=1e-05, momentum=0.1, affine=True, track_running_stats=True)\n",
              "        )\n",
              "      )\n",
              "      (1): BasicBlock(\n",
              "        (conv1): Conv2d(128, 128, kernel_size=(3, 3), stride=(1, 1), padding=(1, 1), bias=False)\n",
              "        (bn1): BatchNorm2d(128, eps=1e-05, momentum=0.1, affine=True, track_running_stats=True)\n",
              "        (relu): ReLU(inplace=True)\n",
              "        (conv2): Conv2d(128, 128, kernel_size=(3, 3), stride=(1, 1), padding=(1, 1), bias=False)\n",
              "        (bn2): BatchNorm2d(128, eps=1e-05, momentum=0.1, affine=True, track_running_stats=True)\n",
              "      )\n",
              "    )\n",
              "    (6): Sequential(\n",
              "      (0): BasicBlock(\n",
              "        (conv1): Conv2d(128, 256, kernel_size=(3, 3), stride=(2, 2), padding=(1, 1), bias=False)\n",
              "        (bn1): BatchNorm2d(256, eps=1e-05, momentum=0.1, affine=True, track_running_stats=True)\n",
              "        (relu): ReLU(inplace=True)\n",
              "        (conv2): Conv2d(256, 256, kernel_size=(3, 3), stride=(1, 1), padding=(1, 1), bias=False)\n",
              "        (bn2): BatchNorm2d(256, eps=1e-05, momentum=0.1, affine=True, track_running_stats=True)\n",
              "        (downsample): Sequential(\n",
              "          (0): Conv2d(128, 256, kernel_size=(1, 1), stride=(2, 2), bias=False)\n",
              "          (1): BatchNorm2d(256, eps=1e-05, momentum=0.1, affine=True, track_running_stats=True)\n",
              "        )\n",
              "      )\n",
              "      (1): BasicBlock(\n",
              "        (conv1): Conv2d(256, 256, kernel_size=(3, 3), stride=(1, 1), padding=(1, 1), bias=False)\n",
              "        (bn1): BatchNorm2d(256, eps=1e-05, momentum=0.1, affine=True, track_running_stats=True)\n",
              "        (relu): ReLU(inplace=True)\n",
              "        (conv2): Conv2d(256, 256, kernel_size=(3, 3), stride=(1, 1), padding=(1, 1), bias=False)\n",
              "        (bn2): BatchNorm2d(256, eps=1e-05, momentum=0.1, affine=True, track_running_stats=True)\n",
              "      )\n",
              "    )\n",
              "    (7): Sequential(\n",
              "      (0): BasicBlock(\n",
              "        (conv1): Conv2d(256, 512, kernel_size=(3, 3), stride=(2, 2), padding=(1, 1), bias=False)\n",
              "        (bn1): BatchNorm2d(512, eps=1e-05, momentum=0.1, affine=True, track_running_stats=True)\n",
              "        (relu): ReLU(inplace=True)\n",
              "        (conv2): Conv2d(512, 512, kernel_size=(3, 3), stride=(1, 1), padding=(1, 1), bias=False)\n",
              "        (bn2): BatchNorm2d(512, eps=1e-05, momentum=0.1, affine=True, track_running_stats=True)\n",
              "        (downsample): Sequential(\n",
              "          (0): Conv2d(256, 512, kernel_size=(1, 1), stride=(2, 2), bias=False)\n",
              "          (1): BatchNorm2d(512, eps=1e-05, momentum=0.1, affine=True, track_running_stats=True)\n",
              "        )\n",
              "      )\n",
              "      (1): BasicBlock(\n",
              "        (conv1): Conv2d(512, 512, kernel_size=(3, 3), stride=(1, 1), padding=(1, 1), bias=False)\n",
              "        (bn1): BatchNorm2d(512, eps=1e-05, momentum=0.1, affine=True, track_running_stats=True)\n",
              "        (relu): ReLU(inplace=True)\n",
              "        (conv2): Conv2d(512, 512, kernel_size=(3, 3), stride=(1, 1), padding=(1, 1), bias=False)\n",
              "        (bn2): BatchNorm2d(512, eps=1e-05, momentum=0.1, affine=True, track_running_stats=True)\n",
              "      )\n",
              "    )\n",
              "  )\n",
              "  (gap): AdaptiveAvgPool2d(output_size=(1, 1))\n",
              "  (fc): Linear(in_features=512, out_features=5, bias=True)\n",
              "  (p_fc): Linear(in_features=61952, out_features=136, bias=True)\n",
              ")"
            ]
          },
          "metadata": {
            "tags": []
          },
          "execution_count": 149
        }
      ]
    },
    {
      "cell_type": "code",
      "metadata": {
        "colab": {
          "base_uri": "https://localhost:8080/"
        },
        "id": "WsO6kJYreDwN",
        "outputId": "58fa1550-2faa-4c61-cbfb-f4ec3d4dc010"
      },
      "source": [
        "!pip install torchsummary"
      ],
      "execution_count": null,
      "outputs": [
        {
          "output_type": "stream",
          "text": [
            "Requirement already satisfied: torchsummary in /usr/local/lib/python3.6/dist-packages (1.5.1)\n"
          ],
          "name": "stdout"
        }
      ]
    },
    {
      "cell_type": "code",
      "metadata": {
        "colab": {
          "base_uri": "https://localhost:8080/"
        },
        "id": "nuAzd79Or5I8",
        "outputId": "9c1fc90e-6b69-4b71-f4b9-0929ab46606f"
      },
      "source": [
        "#to get an idea of network size and shape\n",
        "#note that the 8 million parameter linear layer can be removed after training as \n",
        "#it is only used to calculate point locations\n",
        "from torchsummary import summary\n",
        "summary(mtl.model,input_size=(3,350,350))"
      ],
      "execution_count": 134,
      "outputs": [
        {
          "output_type": "stream",
          "text": [
            "----------------------------------------------------------------\n",
            "        Layer (type)               Output Shape         Param #\n",
            "================================================================\n",
            "            Conv2d-1         [-1, 64, 175, 175]           9,408\n",
            "       BatchNorm2d-2         [-1, 64, 175, 175]             128\n",
            "              ReLU-3         [-1, 64, 175, 175]               0\n",
            "         MaxPool2d-4           [-1, 64, 88, 88]               0\n",
            "            Conv2d-5           [-1, 64, 88, 88]          36,864\n",
            "       BatchNorm2d-6           [-1, 64, 88, 88]             128\n",
            "              ReLU-7           [-1, 64, 88, 88]               0\n",
            "            Conv2d-8           [-1, 64, 88, 88]          36,864\n",
            "       BatchNorm2d-9           [-1, 64, 88, 88]             128\n",
            "             ReLU-10           [-1, 64, 88, 88]               0\n",
            "       BasicBlock-11           [-1, 64, 88, 88]               0\n",
            "           Conv2d-12           [-1, 64, 88, 88]          36,864\n",
            "      BatchNorm2d-13           [-1, 64, 88, 88]             128\n",
            "             ReLU-14           [-1, 64, 88, 88]               0\n",
            "           Conv2d-15           [-1, 64, 88, 88]          36,864\n",
            "      BatchNorm2d-16           [-1, 64, 88, 88]             128\n",
            "             ReLU-17           [-1, 64, 88, 88]               0\n",
            "       BasicBlock-18           [-1, 64, 88, 88]               0\n",
            "           Conv2d-19          [-1, 128, 44, 44]          73,728\n",
            "      BatchNorm2d-20          [-1, 128, 44, 44]             256\n",
            "             ReLU-21          [-1, 128, 44, 44]               0\n",
            "           Conv2d-22          [-1, 128, 44, 44]         147,456\n",
            "      BatchNorm2d-23          [-1, 128, 44, 44]             256\n",
            "           Conv2d-24          [-1, 128, 44, 44]           8,192\n",
            "      BatchNorm2d-25          [-1, 128, 44, 44]             256\n",
            "             ReLU-26          [-1, 128, 44, 44]               0\n",
            "       BasicBlock-27          [-1, 128, 44, 44]               0\n",
            "           Conv2d-28          [-1, 128, 44, 44]         147,456\n",
            "      BatchNorm2d-29          [-1, 128, 44, 44]             256\n",
            "             ReLU-30          [-1, 128, 44, 44]               0\n",
            "           Conv2d-31          [-1, 128, 44, 44]         147,456\n",
            "      BatchNorm2d-32          [-1, 128, 44, 44]             256\n",
            "             ReLU-33          [-1, 128, 44, 44]               0\n",
            "       BasicBlock-34          [-1, 128, 44, 44]               0\n",
            "           Conv2d-35          [-1, 256, 22, 22]         294,912\n",
            "      BatchNorm2d-36          [-1, 256, 22, 22]             512\n",
            "             ReLU-37          [-1, 256, 22, 22]               0\n",
            "           Conv2d-38          [-1, 256, 22, 22]         589,824\n",
            "      BatchNorm2d-39          [-1, 256, 22, 22]             512\n",
            "           Conv2d-40          [-1, 256, 22, 22]          32,768\n",
            "      BatchNorm2d-41          [-1, 256, 22, 22]             512\n",
            "             ReLU-42          [-1, 256, 22, 22]               0\n",
            "       BasicBlock-43          [-1, 256, 22, 22]               0\n",
            "           Conv2d-44          [-1, 256, 22, 22]         589,824\n",
            "      BatchNorm2d-45          [-1, 256, 22, 22]             512\n",
            "             ReLU-46          [-1, 256, 22, 22]               0\n",
            "           Conv2d-47          [-1, 256, 22, 22]         589,824\n",
            "      BatchNorm2d-48          [-1, 256, 22, 22]             512\n",
            "             ReLU-49          [-1, 256, 22, 22]               0\n",
            "       BasicBlock-50          [-1, 256, 22, 22]               0\n",
            "           Conv2d-51          [-1, 512, 11, 11]       1,179,648\n",
            "      BatchNorm2d-52          [-1, 512, 11, 11]           1,024\n",
            "             ReLU-53          [-1, 512, 11, 11]               0\n",
            "           Conv2d-54          [-1, 512, 11, 11]       2,359,296\n",
            "      BatchNorm2d-55          [-1, 512, 11, 11]           1,024\n",
            "           Conv2d-56          [-1, 512, 11, 11]         131,072\n",
            "      BatchNorm2d-57          [-1, 512, 11, 11]           1,024\n",
            "             ReLU-58          [-1, 512, 11, 11]               0\n",
            "       BasicBlock-59          [-1, 512, 11, 11]               0\n",
            "           Conv2d-60          [-1, 512, 11, 11]       2,359,296\n",
            "      BatchNorm2d-61          [-1, 512, 11, 11]           1,024\n",
            "             ReLU-62          [-1, 512, 11, 11]               0\n",
            "           Conv2d-63          [-1, 512, 11, 11]       2,359,296\n",
            "      BatchNorm2d-64          [-1, 512, 11, 11]           1,024\n",
            "             ReLU-65          [-1, 512, 11, 11]               0\n",
            "       BasicBlock-66          [-1, 512, 11, 11]               0\n",
            "           Linear-67                  [-1, 136]       8,425,608\n",
            "AdaptiveAvgPool2d-68            [-1, 512, 1, 1]               0\n",
            "           Linear-69                    [-1, 5]           2,565\n",
            "================================================================\n",
            "Total params: 19,604,685\n",
            "Trainable params: 19,604,685\n",
            "Non-trainable params: 0\n",
            "----------------------------------------------------------------\n",
            "Input size (MB): 1.40\n",
            "Forward/backward pass size (MB): 154.52\n",
            "Params size (MB): 74.79\n",
            "Estimated Total Size (MB): 230.71\n",
            "----------------------------------------------------------------\n"
          ],
          "name": "stdout"
        }
      ]
    },
    {
      "cell_type": "code",
      "metadata": {
        "id": "RcXS7VQGn9a5"
      },
      "source": [
        "optimizer = torch.optim.Adam(mtl.parameters(), lr=.001)\n",
        "epochs = 25\n"
      ],
      "execution_count": 150,
      "outputs": []
    },
    {
      "cell_type": "code",
      "metadata": {
        "colab": {
          "base_uri": "https://localhost:8080/"
        },
        "id": "kjl3rsZiskQ8",
        "outputId": "c2a87997-df87-4a0f-eef6-ccbe5bf548f5"
      },
      "source": [
        "#train model \n",
        "mtl.train()\n",
        "epoch_loss = []\n",
        "dev_epoch_loss = []\n",
        "dev_accs = []\n",
        "for i in range(epochs):\n",
        "    cur_loss = 0\n",
        "    dev_curr_loss = 0\n",
        "    #use this to keep an eye on how the weighting would be updated\n",
        "    #we want to see that it bounces back and forth between increasing and decreasing ideally\n",
        "    print(mtl.wt)\n",
        "\n",
        "    #if you want to try only training the final layers you can use this code\n",
        "    #possibly triggering with an if statement. We do not particularly recommend this\n",
        "\n",
        "    #   print(\"Tuning fc layer\")\n",
        "    #   # for l in mtl.model.children():\n",
        "    #   #   for param in l.parameters():\n",
        "    #   #     param.requires_grad = False\n",
        "    #   # for param in mtl.model.fc.parameters():\n",
        "    #   #   param.requires_grad = True\n",
        "    #   mtl.reg_weight = 0\n",
        "      \n",
        "    for data in trainloader:\n",
        "        \n",
        "        feature, label,points = data\n",
        "        feature = feature.squeeze()\n",
        "        feature, label,points = feature.to(device),label.to(device),points.to(device)\n",
        "        optimizer.zero_grad()\n",
        "        ft = feature.type(torch.FloatTensor if not torch.cuda.is_available() else torch.cuda.FloatTensor)\n",
        "        lb = label.type(torch.cuda.FloatTensor if torch.cuda.is_available() else torch.FloatTensor)\n",
        "        pt = points.type(torch.cuda.FloatTensor if torch.cuda.is_available() else torch.FloatTensor)\n",
        "        loss = mtl(ft,lb,pt)\n",
        "        \n",
        "        cur_loss += float(loss) #need to include float or it will track and use up memory\n",
        "        loss.backward()\n",
        "        optimizer.step()\n",
        "\n",
        "    #get dev loss and accuracy\n",
        "    mtl.eval()\n",
        "    mtl.model.eval()\n",
        "    trn_dev = []\n",
        "    trn_preds = []\n",
        "    for data in devloader:\n",
        "      feature, label,points = data\n",
        "      feature = feature.view(1,3,350,350)\n",
        "      feature, label,points = feature.to(device),label.to(device),points.to(device)\n",
        "\n",
        "      ft = feature.type(torch.FloatTensor if not torch.cuda.is_available() else torch.cuda.FloatTensor)\n",
        "      lb = label.type(torch.cuda.FloatTensor if torch.cuda.is_available() else torch.FloatTensor)\n",
        "      pt = points.type(torch.cuda.FloatTensor if torch.cuda.is_available() else torch.FloatTensor)\n",
        "      res = mtl.model(feature.type(torch.FloatTensor if not torch.cuda.is_available() else torch.cuda.FloatTensor))\n",
        "      trn_dev.append(label)\n",
        "      trn_preds.append(torch.argmax(res[0]))\n",
        "     \n",
        "      dev_loss = mtl(ft, lb, pt)\n",
        "      dev_curr_loss += float(loss)\n",
        "    trn_preds = np.array(trn_preds)\n",
        "    trn_dev = np.array(trn_dev)\n",
        "    print(\"dev set accuracy: \" + str(np.sum(trn_preds == trn_dev) / len(trn_dev)))\n",
        "\n",
        "    mtl.train()\n",
        "    mtl.model.train()\n",
        "    \n",
        "    print(f'train loss: {float(cur_loss)}, dev loss: {float(dev_curr_loss)}')\n",
        "    dev_epoch_loss.append(dev_curr_loss)\n",
        "    epoch_loss.append(cur_loss)\n",
        "    dev_accs.append(np.sum(trn_preds == trn_dev) / len(trn_dev))"
      ],
      "execution_count": 151,
      "outputs": [
        {
          "output_type": "stream",
          "text": [
            "Parameter containing:\n",
            "tensor([37.5000], device='cuda:0', requires_grad=True)\n",
            "dev set accuracy: 0.44\n",
            "train loss: 3841.680805206299, dev loss: 6991.783332824707\n",
            "Parameter containing:\n",
            "tensor([37.5084], device='cuda:0', requires_grad=True)\n",
            "dev set accuracy: 0.6\n",
            "train loss: 832.5947723388672, dev loss: 5466.772842407227\n",
            "Parameter containing:\n",
            "tensor([37.5079], device='cuda:0', requires_grad=True)\n",
            "dev set accuracy: 0.64\n",
            "train loss: 612.5187358856201, dev loss: 4211.631488800049\n",
            "Parameter containing:\n",
            "tensor([37.5061], device='cuda:0', requires_grad=True)\n",
            "dev set accuracy: 0.5866666666666667\n",
            "train loss: 469.57377433776855, dev loss: 3401.114845275879\n",
            "Parameter containing:\n",
            "tensor([37.5043], device='cuda:0', requires_grad=True)\n",
            "dev set accuracy: 0.7333333333333333\n",
            "train loss: 335.43777084350586, dev loss: 1891.6543006896973\n",
            "Parameter containing:\n",
            "tensor([37.5030], device='cuda:0', requires_grad=True)\n",
            "dev set accuracy: 0.7666666666666667\n",
            "train loss: 225.95674896240234, dev loss: 1621.3831901550293\n",
            "Parameter containing:\n",
            "tensor([37.5023], device='cuda:0', requires_grad=True)\n",
            "dev set accuracy: 0.7666666666666667\n",
            "train loss: 147.09921026229858, dev loss: 952.6642799377441\n",
            "Parameter containing:\n",
            "tensor([37.5020], device='cuda:0', requires_grad=True)\n",
            "dev set accuracy: 0.7933333333333333\n",
            "train loss: 96.37885022163391, dev loss: 563.9177799224854\n",
            "Parameter containing:\n",
            "tensor([37.5022], device='cuda:0', requires_grad=True)\n",
            "dev set accuracy: 0.8266666666666667\n",
            "train loss: 85.33853769302368, dev loss: 879.1860580444336\n",
            "Parameter containing:\n",
            "tensor([37.5025], device='cuda:0', requires_grad=True)\n",
            "dev set accuracy: 0.8333333333333334\n",
            "train loss: 75.18704414367676, dev loss: 567.3848390579224\n",
            "Parameter containing:\n",
            "tensor([37.5027], device='cuda:0', requires_grad=True)\n",
            "dev set accuracy: 0.7333333333333333\n",
            "train loss: 71.50010895729065, dev loss: 537.4819993972778\n",
            "Parameter containing:\n",
            "tensor([37.5029], device='cuda:0', requires_grad=True)\n",
            "dev set accuracy: 0.8333333333333334\n",
            "train loss: 53.75220715999603, dev loss: 286.2202227115631\n",
            "Parameter containing:\n",
            "tensor([37.5032], device='cuda:0', requires_grad=True)\n",
            "dev set accuracy: 0.8333333333333334\n",
            "train loss: 45.66759192943573, dev loss: 430.80031871795654\n",
            "Parameter containing:\n",
            "tensor([37.5035], device='cuda:0', requires_grad=True)\n",
            "dev set accuracy: 0.8533333333333334\n",
            "train loss: 39.02020704746246, dev loss: 406.2067151069641\n",
            "Parameter containing:\n",
            "tensor([37.5039], device='cuda:0', requires_grad=True)\n",
            "dev set accuracy: 0.8466666666666667\n",
            "train loss: 31.69437575340271, dev loss: 254.4814646244049\n",
            "Parameter containing:\n",
            "tensor([37.5043], device='cuda:0', requires_grad=True)\n",
            "dev set accuracy: 0.88\n",
            "train loss: 26.012059211730957, dev loss: 237.5002920627594\n",
            "Parameter containing:\n",
            "tensor([37.5046], device='cuda:0', requires_grad=True)\n",
            "dev set accuracy: 0.8866666666666667\n",
            "train loss: 23.72780966758728, dev loss: 160.05356311798096\n",
            "Parameter containing:\n",
            "tensor([37.5049], device='cuda:0', requires_grad=True)\n",
            "dev set accuracy: 0.8933333333333333\n",
            "train loss: 23.382263839244843, dev loss: 264.36365246772766\n",
            "Parameter containing:\n",
            "tensor([37.5052], device='cuda:0', requires_grad=True)\n",
            "dev set accuracy: 0.8933333333333333\n",
            "train loss: 18.378244519233704, dev loss: 139.74986672401428\n",
            "Parameter containing:\n",
            "tensor([37.5055], device='cuda:0', requires_grad=True)\n",
            "dev set accuracy: 0.8866666666666667\n",
            "train loss: 18.02922785282135, dev loss: 124.57464337348938\n",
            "Parameter containing:\n",
            "tensor([37.5057], device='cuda:0', requires_grad=True)\n",
            "dev set accuracy: 0.8733333333333333\n",
            "train loss: 15.471528768539429, dev loss: 107.22673237323761\n",
            "Parameter containing:\n",
            "tensor([37.5059], device='cuda:0', requires_grad=True)\n",
            "dev set accuracy: 0.8733333333333333\n",
            "train loss: 17.72698473930359, dev loss: 123.36713075637817\n",
            "Parameter containing:\n",
            "tensor([37.5061], device='cuda:0', requires_grad=True)\n",
            "dev set accuracy: 0.8533333333333334\n",
            "train loss: 16.428027033805847, dev loss: 144.37261819839478\n",
            "Parameter containing:\n",
            "tensor([37.5064], device='cuda:0', requires_grad=True)\n",
            "dev set accuracy: 0.8666666666666667\n",
            "train loss: 21.3903631567955, dev loss: 142.81839430332184\n",
            "Parameter containing:\n",
            "tensor([37.5067], device='cuda:0', requires_grad=True)\n",
            "dev set accuracy: 0.8933333333333333\n",
            "train loss: 17.484704613685608, dev loss: 115.71405529975891\n"
          ],
          "name": "stdout"
        }
      ]
    },
    {
      "cell_type": "code",
      "metadata": {
        "colab": {
          "base_uri": "https://localhost:8080/",
          "height": 295
        },
        "id": "K4IlRX86Qz2v",
        "outputId": "981d8db3-cc7c-4d1b-e5d5-3c5dd716d2cb"
      },
      "source": [
        "plt.plot(epoch_loss)\n",
        "plt.title('Multi-task CNN Training Loss')\n",
        "plt.ylabel('Loss')\n",
        "plt.xlabel('Epoch')\n",
        "\n",
        "plt.savefig('./Training_Loss_mtcnn.png')\n",
        "plt.show()"
      ],
      "execution_count": 152,
      "outputs": [
        {
          "output_type": "display_data",
          "data": {
            "image/png": "[encoded data removed]",
            "text/plain": [
              "<Figure size 432x288 with 1 Axes>"
            ]
          },
          "metadata": {
            "tags": [],
            "needs_background": "light"
          }
        }
      ]
    },
    {
      "cell_type": "code",
      "metadata": {
        "colab": {
          "base_uri": "https://localhost:8080/",
          "height": 295
        },
        "id": "KB_wqzbHQ2xV",
        "outputId": "f99cb142-0a1c-4573-8af2-3f487fc61a2d"
      },
      "source": [
        "plt.plot(dev_epoch_loss)\n",
        "plt.title('Multi-task CNN Dev Loss')\n",
        "plt.ylabel('Loss')\n",
        "plt.xlabel('Epoch')\n",
        "\n",
        "plt.savefig('./Dev_Loss_mtcnn.png')\n",
        "plt.show()"
      ],
      "execution_count": 153,
      "outputs": [
        {
          "output_type": "display_data",
          "data": {
            "image/png": "[encoded data removed]",
            "text/plain": [
              "<Figure size 432x288 with 1 Axes>"
            ]
          },
          "metadata": {
            "tags": [],
            "needs_background": "light"
          }
        }
      ]
    },
    {
      "cell_type": "code",
      "metadata": {
        "colab": {
          "base_uri": "https://localhost:8080/",
          "height": 295
        },
        "id": "Y7qXChRDQ8HH",
        "outputId": "514ffb0f-244a-4230-ffe4-888e42300e17"
      },
      "source": [
        "plt.plot(dev_accs)\n",
        "plt.title('Multi-task CNN Dev Accuracy ')\n",
        "plt.ylabel('Accuracy')\n",
        "plt.xlabel('Epoch')\n",
        "\n",
        "plt.savefig('./Dev_Acc_mtcnn.png')\n",
        "plt.show()"
      ],
      "execution_count": 154,
      "outputs": [
        {
          "output_type": "display_data",
          "data": {
            "image/png": "[encoded data removed]",
            "text/plain": [
              "<Figure size 432x288 with 1 Axes>"
            ]
          },
          "metadata": {
            "tags": [],
            "needs_background": "light"
          }
        }
      ]
    },
    {
      "cell_type": "code",
      "metadata": {
        "id": "M5gyx35N7R4v"
      },
      "source": [
        "mtl.eval()\n",
        "mtl.model.eval()\n",
        "pred_train = []\n",
        "lab_train = []\n",
        "\n",
        "for data in evalloader:\n",
        "    feature, label, points = data\n",
        "    feature = feature.view(1,3,350,350)\n",
        "    feature, label,points = feature.to(device),label.to(device),points.to(device)\n",
        "\n",
        "    ft = feature.type(torch.FloatTensor if not torch.cuda.is_available() else torch.cuda.FloatTensor)\n",
        "    lb = label.type(torch.cuda.FloatTensor if torch.cuda.is_available() else torch.FloatTensor)\n",
        "    pt = points.type(torch.cuda.FloatTensor if torch.cuda.is_available() else torch.FloatTensor)\n",
        "\n",
        "\n",
        "\n",
        "    lab_train.append(label)\n",
        "    pred_train.append(torch.argmax(mtl.model(feature.type(torch.FloatTensor if not torch.cuda.is_available() else \n",
        "                                                      torch.cuda.FloatTensor))[0]))"
      ],
      "execution_count": 155,
      "outputs": []
    },
    {
      "cell_type": "code",
      "metadata": {
        "colab": {
          "base_uri": "https://localhost:8080/"
        },
        "id": "a9FrVGWD7UYz",
        "outputId": "1d840fda-8817-4e09-b756-b9b0c7090b20"
      },
      "source": [
        "pred_train = np.array(pred_train)\n",
        "lab_train = np.array(lab_train)\n",
        "print(\"train set accuracy: \" + str(np.sum(pred_train == lab_train) / len(lab_train)))"
      ],
      "execution_count": 156,
      "outputs": [
        {
          "output_type": "stream",
          "text": [
            "train set accuracy: 1.0\n"
          ],
          "name": "stdout"
        }
      ]
    },
    {
      "cell_type": "code",
      "metadata": {
        "colab": {
          "base_uri": "https://localhost:8080/",
          "height": 269
        },
        "id": "7JpBaQ_2-qKN",
        "outputId": "c05b1216-0d0e-4a32-fe41-4180643efaa9"
      },
      "source": [
        "\n",
        "pred_dev = []\n",
        "lab_dev = []\n",
        "i = 0\n",
        "for data in devloader:\n",
        "    feature, label, points = data\n",
        "    feature = feature.view(1,3,350,350)\n",
        "    if i < 5:\n",
        "      test_im = feature.view(3,350,350)[0]\n",
        "      points_truth = points.squeeze()\n",
        "\n",
        "    feature, label,points = feature.to(device),label.to(device),points.to(device)\n",
        "\n",
        "    ft = feature.type(torch.FloatTensor if not torch.cuda.is_available() else torch.cuda.FloatTensor)\n",
        "    lb = label.type(torch.cuda.FloatTensor if torch.cuda.is_available() else torch.FloatTensor)\n",
        "    pt = points.type(torch.cuda.FloatTensor if torch.cuda.is_available() else torch.FloatTensor)\n",
        "    res = mtl.model(feature.type(torch.FloatTensor if not torch.cuda.is_available() else torch.cuda.FloatTensor))\n",
        "    \n",
        "    if i <5:\n",
        "      plt.figure()\n",
        "      plt.imshow(test_im,cmap='gray', vmin=-1, vmax=1)\n",
        "      pred_p = res[1].cpu().squeeze().detach().numpy()\n",
        "      for i in range(68):\n",
        "        plt.scatter(points_truth[i],points_truth[i+68],s=2,c='r')\n",
        "        plt.scatter(pred_p[i],pred_p[i+68],s=2,c='b')\n",
        "\n",
        "      i += 1\n",
        "    #####\n",
        "\n",
        "\n",
        "    lab_dev.append(label)\n",
        "    pred_dev.append(torch.argmax(res[0]))"
      ],
      "execution_count": 157,
      "outputs": [
        {
          "output_type": "display_data",
          "data": {
            "image/png": "[encoded data removed]",
            "text/plain": [
              "<Figure size 432x288 with 1 Axes>"
            ]
          },
          "metadata": {
            "tags": [],
            "needs_background": "light"
          }
        }
      ]
    },
    {
      "cell_type": "code",
      "metadata": {
        "colab": {
          "base_uri": "https://localhost:8080/"
        },
        "id": "jxsUpGWL-24s",
        "outputId": "59b3d073-5956-4034-d7e2-282160668dbb"
      },
      "source": [
        "pred_dev = np.array(pred_dev)\n",
        "lab_dev = np.array(lab_dev)\n",
        "print(\"dev set accuracy: \" + str(np.sum(pred_dev == lab_dev) / len(lab_dev)))"
      ],
      "execution_count": 158,
      "outputs": [
        {
          "output_type": "stream",
          "text": [
            "dev set accuracy: 0.8933333333333333\n"
          ],
          "name": "stdout"
        }
      ]
    },
    {
      "cell_type": "code",
      "metadata": {
        "colab": {
          "base_uri": "https://localhost:8080/",
          "height": 269
        },
        "id": "qheWu-db5xWo",
        "outputId": "e1685153-0a5d-4c7a-ff6d-94efe3864079"
      },
      "source": [
        "#Only run this when dev accuracy is best\n",
        "\n",
        "pred_test = []\n",
        "lab_test = []\n",
        "i = 0\n",
        "for data in testloader:\n",
        "    feature, label, points = data\n",
        "    feature = feature.view(1,3,350,350)\n",
        "    if i < 5:\n",
        "      test_im = feature.view(3,350,350)[0]\n",
        "      points_truth = points.squeeze()\n",
        "\n",
        "    feature, label,points = feature.to(device),label.to(device),points.to(device)\n",
        "\n",
        "    ft = feature.type(torch.FloatTensor if not torch.cuda.is_available() else torch.cuda.FloatTensor)\n",
        "    lb = label.type(torch.cuda.FloatTensor if torch.cuda.is_available() else torch.FloatTensor)\n",
        "    pt = points.type(torch.cuda.FloatTensor if torch.cuda.is_available() else torch.FloatTensor)\n",
        "    res = mtl.model(feature.type(torch.FloatTensor if not torch.cuda.is_available() else torch.cuda.FloatTensor))\n",
        "    \n",
        "    if i <5:\n",
        "      plt.figure()\n",
        "      plt.imshow(test_im,cmap='gray', vmin=-1, vmax=1)\n",
        "      pred_p = res[1].cpu().squeeze().detach().numpy()\n",
        "      for i in range(68):\n",
        "        plt.scatter(points_truth[i],points_truth[i+68],s=2,c='r')\n",
        "        plt.scatter(pred_p[i],pred_p[i+68],s=2,c='b')\n",
        "\n",
        "      i += 1\n",
        "    #####\n",
        "\n",
        "  \n",
        "    lab_test.append(label.to('cpu'))\n",
        "    pred_test.append(torch.argmax(res[0]).to('cpu'))"
      ],
      "execution_count": 159,
      "outputs": [
        {
          "output_type": "display_data",
          "data": {
            "image/png": "[encoded data removed]",
            "text/plain": [
              "<Figure size 432x288 with 1 Axes>"
            ]
          },
          "metadata": {
            "tags": [],
            "needs_background": "light"
          }
        }
      ]
    },
    {
      "cell_type": "code",
      "metadata": {
        "colab": {
          "base_uri": "https://localhost:8080/"
        },
        "id": "jwcbXCPD6Gzt",
        "outputId": "05253b35-92fd-47f5-8a53-4454ba7723b9"
      },
      "source": [
        "pred_test = np.array(pred_test)\n",
        "lab_test = np.array(lab_test)\n",
        "print(\"test set accuracy: \" + str(np.sum(pred_test == lab_test) / len(lab_test)))"
      ],
      "execution_count": 160,
      "outputs": [
        {
          "output_type": "stream",
          "text": [
            "test set accuracy: 0.86\n"
          ],
          "name": "stdout"
        }
      ]
    },
    {
      "cell_type": "code",
      "metadata": {
        "colab": {
          "base_uri": "https://localhost:8080/"
        },
        "id": "Ta_ja2WZRH19",
        "outputId": "5f8b1ca4-331f-4411-e4a7-4fcbcdee9f52"
      },
      "source": [
        "conf_norm = normalize(confusion_matrix(lab_test,pred_test), norm=\"l1\")\n",
        "conf_norm = np.round(conf_norm, 2)\n",
        "print(conf_norm)"
      ],
      "execution_count": 161,
      "outputs": [
        {
          "output_type": "stream",
          "text": [
            "[[0.96 0.   0.04 0.   0.  ]\n",
            " [0.02 0.8  0.1  0.02 0.05]\n",
            " [0.   0.05 0.86 0.05 0.05]\n",
            " [0.07 0.   0.07 0.82 0.04]\n",
            " [0.03 0.03 0.06 0.   0.87]]\n"
          ],
          "name": "stdout"
        }
      ]
    },
    {
      "cell_type": "code",
      "metadata": {
        "id": "gRfffnkX6OyM"
      },
      "source": [
        "torch.save(mtl,'./mt-cnn_fin_2.pt')"
      ],
      "execution_count": 165,
      "outputs": []
    },
    {
      "cell_type": "code",
      "metadata": {
        "id": "gVtbzsN06TBy"
      },
      "source": [
        "torch.save(mtl.model,'./mt-cnn_model-only.pt')"
      ],
      "execution_count": 163,
      "outputs": []
    },
    {
      "cell_type": "code",
      "metadata": {
        "colab": {
          "base_uri": "https://localhost:8080/"
        },
        "id": "ehgmQlrGoXqM",
        "outputId": "2c73e3a6-79d3-4ae8-c61e-9161317c1097"
      },
      "source": [
        "!ls drive/MyDrive/ML_Final/Models/mt-cnn.pt"
      ],
      "execution_count": 164,
      "outputs": [
        {
          "output_type": "stream",
          "text": [
            "drive/MyDrive/ML_Final/Models/mt-cnn.pt\n"
          ],
          "name": "stdout"
        }
      ]
    },
    {
      "cell_type": "code",
      "metadata": {
        "id": "FIOZzXfVaifE"
      },
      "source": [
        "!cp ./mt-cnn_fin_2.pt drive/MyDrive/ML_Final/Models/"
      ],
      "execution_count": 166,
      "outputs": []
    },
    {
      "cell_type": "code",
      "metadata": {
        "id": "hzaELxDVmr8Q"
      },
      "source": [
        "!cp ./Dev_Acc_mtcnn.png drive/MyDrive/ML_Final/Figures/\n",
        "!cp ./Dev_Loss_mtcnn.png drive/MyDrive/ML_Final/Figures/\n",
        "!cp ./Training_Loss_mtcnn.png drive/MyDrive/ML_Final/Figures/"
      ],
      "execution_count": 167,
      "outputs": []
    },
    {
      "cell_type": "code",
      "metadata": {
        "id": "oIWMeWi9oCKv"
      },
      "source": [
        "# to load back up use this and use mtl.model.\n",
        "mtl = torch.load('drive/MyDrive/ML_Final/Models/mt-cnn_fin.pt')"
      ],
      "execution_count": null,
      "outputs": []
    },
    {
      "cell_type": "code",
      "metadata": {
        "id": "LU3mf0DGovYj"
      },
      "source": [
        ""
      ],
      "execution_count": null,
      "outputs": []
    }
  ]
}