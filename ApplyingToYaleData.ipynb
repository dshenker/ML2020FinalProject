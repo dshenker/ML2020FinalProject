{
  "nbformat": 4,
  "nbformat_minor": 0,
  "metadata": {
    "colab": {
      "name": "ApplyingToYaleData.ipynb",
      "provenance": []
    },
    "kernelspec": {
      "name": "python3",
      "display_name": "Python 3"
    },
    "accelerator": "GPU"
  },
  "cells": [
    {
      "cell_type": "markdown",
      "metadata": {
        "id": "FpvEK-l6B0PM"
      },
      "source": [
        "# Application to Yale Dataset\n",
        "\n",
        "Here we explore how our models can generalize to a new dataset. As we'll see here, we do not get very good performance, largely because dlib struggled on this data, something we did not expect would happen. However, our first CNN (which does not rely on dlib), did achieve decent accuracy, suggesting that there is hope that these models could work on new and diverse images."
      ]
    },
    {
      "cell_type": "code",
      "metadata": {
        "id": "j-P5ZafT4lX_"
      },
      "source": [
        "import pandas as pd\n",
        "!apt-get install build-essential cmake\n",
        "!apt-get install libopenblas-dev liblapack-dev \n",
        "!pip3 install dlib\n",
        "import dlib"
      ],
      "execution_count": null,
      "outputs": []
    },
    {
      "cell_type": "code",
      "metadata": {
        "id": "-PD4XvGT4yUe"
      },
      "source": [
        "%matplotlib inline\n",
        "from matplotlib import pyplot as plt\n",
        "import matplotlib.pyplot as plt"
      ],
      "execution_count": 2,
      "outputs": []
    },
    {
      "cell_type": "code",
      "metadata": {
        "colab": {
          "base_uri": "https://localhost:8080/"
        },
        "id": "GJt5T3rT4ypu",
        "outputId": "6eb58b5c-df7c-46fe-b072-ca5d47aa75a9"
      },
      "source": [
        "from google.colab import drive\n",
        "drive.mount('/content/drive',force_remount=True)"
      ],
      "execution_count": 3,
      "outputs": [
        {
          "output_type": "stream",
          "text": [
            "Mounted at /content/drive\n"
          ],
          "name": "stdout"
        }
      ]
    },
    {
      "cell_type": "code",
      "metadata": {
        "id": "Q2TjbJ5141H0"
      },
      "source": [
        "landmark_detector = dlib.shape_predictor('drive/MyDrive/ML_Final/shape_predictor_68_face_landmarks.dat')"
      ],
      "execution_count": 4,
      "outputs": []
    },
    {
      "cell_type": "code",
      "metadata": {
        "id": "lGcl27pU5p8u"
      },
      "source": [
        "import os\n",
        "import numpy as np\n",
        "import tqdm\n",
        "from PIL import Image\n",
        "\n",
        "directory = r'drive/MyDrive/ML_Final/yale_data/'\n",
        "\n",
        "for filename in tqdm.tqdm(os.listdir(directory)):\n",
        "    if (filename != \"Jpegs\"):\n",
        "      curr_image = Image.open('drive/MyDrive/ML_Final/yale_data/' + filename)\n",
        "      curr_image = curr_image.resize((350, 350))\n",
        "      curr_image.save('drive/MyDrive/ML_Final/yale_data/Jpegs/' + filename+'.jpg', 'JPEG')\n",
        "\n",
        "  \n",
        "  "
      ],
      "execution_count": null,
      "outputs": []
    },
    {
      "cell_type": "code",
      "metadata": {
        "colab": {
          "base_uri": "https://localhost:8080/"
        },
        "id": "FLzIQw0pCrKL",
        "outputId": "19aaac79-bfbc-48d8-e20f-0f5c949872d9"
      },
      "source": [
        "!pip3 install scipy"
      ],
      "execution_count": null,
      "outputs": [
        {
          "output_type": "stream",
          "text": [
            "Requirement already satisfied: scipy in /usr/local/lib/python3.6/dist-packages (1.4.1)\n",
            "Requirement already satisfied: numpy>=1.13.3 in /usr/local/lib/python3.6/dist-packages (from scipy) (1.18.5)\n"
          ],
          "name": "stdout"
        }
      ]
    },
    {
      "cell_type": "code",
      "metadata": {
        "id": "mrOp-f8092rV"
      },
      "source": [
        "import os\n",
        "import numpy as np\n",
        "import tqdm\n",
        "from PIL import Image\n",
        "directory = r'drive/MyDrive/ML_Final/yale_data/Jpegs'\n",
        "images = []\n",
        "labels = []\n",
        "c = 0\n",
        "import scipy\n",
        "from scipy import misc\n",
        "possible_emotions = [\"sad\", \"surprised\", \"normal\", \"happy\"]\n",
        "for filename in os.listdir(directory):\n",
        "\n",
        "   \n",
        "  \n",
        "    curr_image = dlib.load_grayscale_image('drive/MyDrive/ML_Final/yale_data/Jpegs/' + filename)\n",
        "    emotion = filename.partition(\".\")[2]\n",
        "    emotion = emotion[:-4]\n",
        "    if (emotion in possible_emotions):\n",
        "      images.append(curr_image)\n",
        "      emotion = emotion.replace(\"normal\", \"neutral\")\n",
        "      emotion = emotion.replace(\"surprised\", \"surprise\")\n",
        "      emotion = emotion.replace(\"happy\", \"happiness\")\n",
        "      emotion = emotion.replace(\"sad\", \"sadness\")\n",
        "      labels.append(emotion)\n"
      ],
      "execution_count": 5,
      "outputs": []
    },
    {
      "cell_type": "code",
      "metadata": {
        "colab": {
          "base_uri": "https://localhost:8080/"
        },
        "id": "FmDlSPK0xpgi",
        "outputId": "c43c604e-21a1-4f81-c483-8dc57ed5f71b"
      },
      "source": [
        "from collections import Counter\n",
        "Counter(labels)\n",
        "labels = np.array(labels)\n",
        "labels"
      ],
      "execution_count": 6,
      "outputs": [
        {
          "output_type": "execute_result",
          "data": {
            "text/plain": [
              "array(['neutral', 'sadness', 'surprise', 'happiness', 'neutral',\n",
              "       'surprise', 'happiness', 'neutral', 'sadness', 'surprise',\n",
              "       'happiness', 'neutral', 'sadness', 'surprise', 'happiness',\n",
              "       'neutral', 'surprise', 'sadness', 'happiness', 'neutral',\n",
              "       'sadness', 'surprise', 'happiness', 'neutral', 'sadness',\n",
              "       'surprise', 'happiness', 'neutral', 'sadness', 'surprise',\n",
              "       'happiness', 'neutral', 'sadness', 'surprise', 'happiness',\n",
              "       'neutral', 'sadness', 'surprise', 'happiness', 'neutral',\n",
              "       'sadness', 'surprise', 'happiness', 'neutral', 'sadness',\n",
              "       'surprise', 'happiness', 'neutral', 'sadness', 'surprise',\n",
              "       'sadness', 'happiness', 'neutral', 'sadness', 'surprise',\n",
              "       'happiness', 'neutral', 'sadness', 'surprise', 'happiness'],\n",
              "      dtype='<U9')"
            ]
          },
          "metadata": {
            "tags": []
          },
          "execution_count": 6
        }
      ]
    },
    {
      "cell_type": "code",
      "metadata": {
        "colab": {
          "base_uri": "https://localhost:8080/",
          "height": 315
        },
        "id": "OWNEyXUx99gK",
        "outputId": "1f8cb4e3-31cd-4b28-fd4e-db4a2318dd11"
      },
      "source": [
        "img = images[30]\n",
        "rect = dlib.rectangle(0,0,img.shape[1],img.shape[0])\n",
        "landmarks = landmark_detector(img,rect)\n",
        "plt.figure()\n",
        "plt.title(labels[30])\n",
        "plt.imshow(img,cmap='gray', vmin=0, vmax=255)\n",
        "for p in landmarks.parts():\n",
        "  plt.scatter(p.x,p.y,s=2,c='r')\n"
      ],
      "execution_count": 7,
      "outputs": [
        {
          "output_type": "stream",
          "text": [
            "(350, 350)\n",
            "(350, 350)\n"
          ],
          "name": "stdout"
        },
        {
          "output_type": "display_data",
          "data": {
            "image/png": "[encoded data removed]",
            "text/plain": [
              "<Figure size 432x288 with 1 Axes>"
            ]
          },
          "metadata": {
            "tags": [],
            "needs_background": "light"
          }
        }
      ]
    },
    {
      "cell_type": "markdown",
      "metadata": {
        "id": "5qvCBBUU9Ani"
      },
      "source": [
        "Unfortunately, dlib doesn't seem to be working properly here. This is an issue that, given time, we would like to look deeper into. However, for now we will continue along with our methods."
      ]
    },
    {
      "cell_type": "code",
      "metadata": {
        "id": "SU4j_jTzE3hh"
      },
      "source": [
        "images = np.array(images)\n",
        "landmarks = []\n",
        "\n",
        "for img in images:\n",
        "  rect = dlib.rectangle(0,0,img.shape[1],img.shape[0])\n",
        "  landmark_curr = landmark_detector(img,rect)\n",
        "  landmarks.append([[i.x,i.y] for i in landmark_curr.parts()])\n",
        "\n",
        "landmarks = np.array(landmarks)"
      ],
      "execution_count": 8,
      "outputs": []
    },
    {
      "cell_type": "code",
      "metadata": {
        "colab": {
          "base_uri": "https://localhost:8080/"
        },
        "id": "LMCSBa-WE95V",
        "outputId": "2b57b851-a247-474f-f1cb-df2edfc861ee"
      },
      "source": [
        "landmarks_flat = np.reshape(landmarks, (60, 136))\n",
        "landmarks_flat.shape"
      ],
      "execution_count": 9,
      "outputs": [
        {
          "output_type": "execute_result",
          "data": {
            "text/plain": [
              "(60, 136)"
            ]
          },
          "metadata": {
            "tags": []
          },
          "execution_count": 9
        }
      ]
    },
    {
      "cell_type": "code",
      "metadata": {
        "id": "ntrFKHIpFOBe"
      },
      "source": [
        "from sklearn.svm import SVC\n",
        "from sklearn import preprocessing\n",
        "y_train = np.load('drive/MyDrive/ML_Final/Upsampled_Data/y_train_upsample_final.npy')\n",
        "le = preprocessing.LabelEncoder()\n",
        "le.fit(y_train)\n",
        "labels = le.transform(labels)"
      ],
      "execution_count": 10,
      "outputs": []
    },
    {
      "cell_type": "code",
      "metadata": {
        "id": "FEICCxvnGkqX"
      },
      "source": [
        "from joblib import dump, load\n",
        "#load svm\n",
        "clf = load('drive/MyDrive/ML_Final/Models/svm.joblib')"
      ],
      "execution_count": 13,
      "outputs": []
    },
    {
      "cell_type": "code",
      "metadata": {
        "colab": {
          "base_uri": "https://localhost:8080/"
        },
        "id": "TjTE00wAIA1j",
        "outputId": "e449c2c2-0bae-4432-e37d-f6e17489e39a"
      },
      "source": [
        "clf.score(landmarks_flat, labels)"
      ],
      "execution_count": 15,
      "outputs": [
        {
          "output_type": "execute_result",
          "data": {
            "text/plain": [
              "0.11666666666666667"
            ]
          },
          "metadata": {
            "tags": []
          },
          "execution_count": 15
        }
      ]
    },
    {
      "cell_type": "markdown",
      "metadata": {
        "id": "44qNTUaY9g1P"
      },
      "source": [
        "We see that there is very poor performance using our trained SVM. This is likely due to the dlib errors we saw earlier. "
      ]
    },
    {
      "cell_type": "code",
      "metadata": {
        "colab": {
          "base_uri": "https://localhost:8080/"
        },
        "id": "F_QBL3z09mXu",
        "outputId": "20805c26-1f07-4b2a-a56d-2b976887f8c5"
      },
      "source": [
        "y_test_pred = clf.predict(landmarks_flat)\n",
        "from sklearn.preprocessing import normalize\n",
        "from sklearn.metrics import confusion_matrix, classification_report\n",
        "conf_norm = normalize(confusion_matrix(labels,y_test_pred), norm=\"l1\")\n",
        "conf_norm = np.round(conf_norm, 2)\n",
        "print(conf_norm)"
      ],
      "execution_count": 17,
      "outputs": [
        {
          "output_type": "stream",
          "text": [
            "[[0.   0.   0.   0.   0.  ]\n",
            " [0.53 0.13 0.13 0.07 0.13]\n",
            " [0.4  0.   0.27 0.13 0.2 ]\n",
            " [0.47 0.   0.4  0.   0.13]\n",
            " [0.6  0.   0.2  0.13 0.07]]\n"
          ],
          "name": "stdout"
        }
      ]
    },
    {
      "cell_type": "code",
      "metadata": {
        "id": "aYxeQHduIHt1"
      },
      "source": [
        "import torch\n",
        "import numpy as np\n",
        "import pandas as pd\n",
        "from torch.utils.data import Dataset, DataLoader, random_split\n",
        "#load in the cnn\n",
        "device = torch.device('cuda' if torch.cuda.is_available() else 'cpu')\n",
        "cnn = torch.load('drive/MyDrive/ML_Final/Models/Final_Models/cnn.pt')"
      ],
      "execution_count": 18,
      "outputs": []
    },
    {
      "cell_type": "code",
      "metadata": {
        "id": "6tbXgu9ZYgc4"
      },
      "source": [
        "#define dataset class\n",
        "class Dataset(Dataset):\n",
        "    \n",
        "    def __init__(self, features, labels):\n",
        "\n",
        "        self.features = features\n",
        "        self.features = self.features.astype(np.float32) / 255.0\n",
        "        #going to try and normalize\n",
        "        sum_m,sum_std = 0,0\n",
        "        for img in self.features:\n",
        "          sum_m += img.mean()\n",
        "          sum_std += img.std()\n",
        "        m = sum_m / self.features.shape[0]\n",
        "        s = sum_std / self.features.shape[0]\n",
        "\n",
        "        imgs_arr = []\n",
        "        for img in self.features:\n",
        "\n",
        "           imgs_arr.append([img,img,img])\n",
        "\n",
        "        self.features = np.array(imgs_arr)\n",
        "        print(self.features.shape)\n",
        "        self.features = (self.features - m) / s\n",
        "  \n",
        "        self.labels = labels\n",
        "    def __len__(self):\n",
        "        return len(self.labels)\n",
        "    def __getitem__(self, index):\n",
        "        feature = np.expand_dims(self.features[index,:,:],0)\n",
        "        label = self.labels[index]\n",
        "        return feature, label"
      ],
      "execution_count": 19,
      "outputs": []
    },
    {
      "cell_type": "code",
      "metadata": {
        "colab": {
          "base_uri": "https://localhost:8080/"
        },
        "id": "JtZWKiOZYx7P",
        "outputId": "ddd93755-e23d-4980-b41e-8aa49dbbd607"
      },
      "source": [
        "data = Dataset(images, labels)"
      ],
      "execution_count": 20,
      "outputs": [
        {
          "output_type": "stream",
          "text": [
            "(60, 3, 350, 350)\n"
          ],
          "name": "stdout"
        }
      ]
    },
    {
      "cell_type": "code",
      "metadata": {
        "id": "EU7Q_a56Y-b7"
      },
      "source": [
        "loader = DataLoader(data, batch_size=1, shuffle=True,drop_last=False)"
      ],
      "execution_count": 21,
      "outputs": []
    },
    {
      "cell_type": "code",
      "metadata": {
        "id": "hljL1pbLNjCU"
      },
      "source": [
        "cnn.eval()\n",
        "pred_yale = []\n",
        "lab_yale = []\n",
        "for data in loader:\n",
        "  feature, label = data\n",
        "  feature = feature.view(1,3,350,350)\n",
        "\n",
        "  lab_yale.append(label)\n",
        "  pred_yale.append(torch.argmax(cnn(feature.type(torch.FloatTensor if not torch.cuda.is_available() else torch.cuda.FloatTensor))))\n"
      ],
      "execution_count": 22,
      "outputs": []
    },
    {
      "cell_type": "code",
      "metadata": {
        "colab": {
          "base_uri": "https://localhost:8080/"
        },
        "id": "3az8zqpTTIbK",
        "outputId": "99fcf8c2-923f-492e-8f03-8df76a478097"
      },
      "source": [
        "pred_yale = np.array(pred_yale)\n",
        "lab_yale = np.array(lab_yale)\n",
        "print(\"train set accuracy: \" + str(np.sum(pred_yale == lab_yale) / len(lab_yale)))"
      ],
      "execution_count": 23,
      "outputs": [
        {
          "output_type": "stream",
          "text": [
            "train set accuracy: 0.45\n"
          ],
          "name": "stdout"
        }
      ]
    },
    {
      "cell_type": "markdown",
      "metadata": {
        "id": "6vJ9F1uH-BEo"
      },
      "source": [
        "First, the accuracy here is much better than we saw with the SVM. However, it is still not near to where we were with our original github test and dev sets. This suggests that the cnn model we built is not very generalizable to a new type of image. This could be due to how these Yale images were labeled or the parts of the face that we are looking at here."
      ]
    },
    {
      "cell_type": "code",
      "metadata": {
        "id": "lMWMyr5XpsRb"
      },
      "source": [
        "import torch\n",
        "import numpy as np\n",
        "import pandas as pd\n",
        "from torch.utils.data import Dataset, DataLoader, random_split\n",
        "import matplotlib.pyplot as plt\n",
        "from sklearn.linear_model import LogisticRegression\n",
        "from sklearn.preprocessing import OneHotEncoder, LabelEncoder, MinMaxScaler, normalize\n",
        "from sklearn.model_selection import train_test_split\n",
        "from sklearn.metrics import mean_squared_error\n",
        "from sklearn.metrics import confusion_matrix, classification_report\n",
        "from skimage import transform\n",
        "from torchvision import models"
      ],
      "execution_count": 24,
      "outputs": []
    },
    {
      "cell_type": "code",
      "metadata": {
        "colab": {
          "base_uri": "https://localhost:8080/"
        },
        "id": "Wsp8rqR5pmKw",
        "outputId": "65a56200-e4a9-4ff1-c150-c8118ebf45b4"
      },
      "source": [
        "import torch\n",
        "import torch.nn as nn\n",
        "import torch.optim as optim\n",
        "\n",
        "class MultiTaskLoss(nn.Module):\n",
        "    def __init__(self, model):\n",
        "        super(MultiTaskLoss, self).__init__()\n",
        "        self.model = model\n",
        "        self.cross_entropy = nn.CrossEntropyLoss()\n",
        "        self.mse = nn.MSELoss()\n",
        "        #empirically determined ratio based on preruns\n",
        "        self.wt = nn.Parameter(torch.tensor([37.5]))\n",
        "\n",
        "\n",
        "    def forward(self, input, labels, points):\n",
        "        outputs = self.model(input)\n",
        "        loss = 0\n",
        "        for i in range(len(outputs[0])):\n",
        "          loss += self.wt * (self.cross_entropy(outputs[0][i].view(1,5),labels[i].view(1).long()))\n",
        "          loss += (self.mse(outputs[1][i].view(1,136),points[i].view(1,-1))) / self.wt\n",
        "        return loss / len(outputs[0])\n",
        "\n",
        "\n",
        "\n",
        "class MultiTaskModel(nn.Module):\n",
        "    def __init__(self):\n",
        "        super(MultiTaskModel, self).__init__()\n",
        "        #initial extractor prior to global average pooling\n",
        "        self.extractor = list(models.resnet18(pretrained=True).children())[:-2]\n",
        "        self.extractor = nn.Sequential(*self.extractor)\n",
        "\n",
        "        self.gap = torch.nn.AdaptiveAvgPool2d((1,1))\n",
        "        self.fc = torch.nn.Linear(512,5)\n",
        "\n",
        "        self.p_fc = torch.nn.Linear(512*11*11,136)\n",
        "        \n",
        "\n",
        "\n",
        "    def forward(self, input):\n",
        "        x = self.extractor(input)\n",
        "        y = self.p_fc(x.view(-1,512*11*11))\n",
        "        x = self.gap(x)\n",
        "        x = self.fc(x.view(-1,512))\n",
        "        label,points = x.view(-1,5), y.view(-1,136)\n",
        "        return label,points\n",
        "\n",
        "#sending to CUDA\n",
        "mtl = MultiTaskLoss(model=MultiTaskModel())\n",
        "mtl.to(device)\n",
        "mtl.model.to(device)"
      ],
      "execution_count": 41,
      "outputs": [
        {
          "output_type": "execute_result",
          "data": {
            "text/plain": [
              "MultiTaskModel(\n",
              "  (extractor): Sequential(\n",
              "    (0): Conv2d(3, 64, kernel_size=(7, 7), stride=(2, 2), padding=(3, 3), bias=False)\n",
              "    (1): BatchNorm2d(64, eps=1e-05, momentum=0.1, affine=True, track_running_stats=True)\n",
              "    (2): ReLU(inplace=True)\n",
              "    (3): MaxPool2d(kernel_size=3, stride=2, padding=1, dilation=1, ceil_mode=False)\n",
              "    (4): Sequential(\n",
              "      (0): BasicBlock(\n",
              "        (conv1): Conv2d(64, 64, kernel_size=(3, 3), stride=(1, 1), padding=(1, 1), bias=False)\n",
              "        (bn1): BatchNorm2d(64, eps=1e-05, momentum=0.1, affine=True, track_running_stats=True)\n",
              "        (relu): ReLU(inplace=True)\n",
              "        (conv2): Conv2d(64, 64, kernel_size=(3, 3), stride=(1, 1), padding=(1, 1), bias=False)\n",
              "        (bn2): BatchNorm2d(64, eps=1e-05, momentum=0.1, affine=True, track_running_stats=True)\n",
              "      )\n",
              "      (1): BasicBlock(\n",
              "        (conv1): Conv2d(64, 64, kernel_size=(3, 3), stride=(1, 1), padding=(1, 1), bias=False)\n",
              "        (bn1): BatchNorm2d(64, eps=1e-05, momentum=0.1, affine=True, track_running_stats=True)\n",
              "        (relu): ReLU(inplace=True)\n",
              "        (conv2): Conv2d(64, 64, kernel_size=(3, 3), stride=(1, 1), padding=(1, 1), bias=False)\n",
              "        (bn2): BatchNorm2d(64, eps=1e-05, momentum=0.1, affine=True, track_running_stats=True)\n",
              "      )\n",
              "    )\n",
              "    (5): Sequential(\n",
              "      (0): BasicBlock(\n",
              "        (conv1): Conv2d(64, 128, kernel_size=(3, 3), stride=(2, 2), padding=(1, 1), bias=False)\n",
              "        (bn1): BatchNorm2d(128, eps=1e-05, momentum=0.1, affine=True, track_running_stats=True)\n",
              "        (relu): ReLU(inplace=True)\n",
              "        (conv2): Conv2d(128, 128, kernel_size=(3, 3), stride=(1, 1), padding=(1, 1), bias=False)\n",
              "        (bn2): BatchNorm2d(128, eps=1e-05, momentum=0.1, affine=True, track_running_stats=True)\n",
              "        (downsample): Sequential(\n",
              "          (0): Conv2d(64, 128, kernel_size=(1, 1), stride=(2, 2), bias=False)\n",
              "          (1): BatchNorm2d(128, eps=1e-05, momentum=0.1, affine=True, track_running_stats=True)\n",
              "        )\n",
              "      )\n",
              "      (1): BasicBlock(\n",
              "        (conv1): Conv2d(128, 128, kernel_size=(3, 3), stride=(1, 1), padding=(1, 1), bias=False)\n",
              "        (bn1): BatchNorm2d(128, eps=1e-05, momentum=0.1, affine=True, track_running_stats=True)\n",
              "        (relu): ReLU(inplace=True)\n",
              "        (conv2): Conv2d(128, 128, kernel_size=(3, 3), stride=(1, 1), padding=(1, 1), bias=False)\n",
              "        (bn2): BatchNorm2d(128, eps=1e-05, momentum=0.1, affine=True, track_running_stats=True)\n",
              "      )\n",
              "    )\n",
              "    (6): Sequential(\n",
              "      (0): BasicBlock(\n",
              "        (conv1): Conv2d(128, 256, kernel_size=(3, 3), stride=(2, 2), padding=(1, 1), bias=False)\n",
              "        (bn1): BatchNorm2d(256, eps=1e-05, momentum=0.1, affine=True, track_running_stats=True)\n",
              "        (relu): ReLU(inplace=True)\n",
              "        (conv2): Conv2d(256, 256, kernel_size=(3, 3), stride=(1, 1), padding=(1, 1), bias=False)\n",
              "        (bn2): BatchNorm2d(256, eps=1e-05, momentum=0.1, affine=True, track_running_stats=True)\n",
              "        (downsample): Sequential(\n",
              "          (0): Conv2d(128, 256, kernel_size=(1, 1), stride=(2, 2), bias=False)\n",
              "          (1): BatchNorm2d(256, eps=1e-05, momentum=0.1, affine=True, track_running_stats=True)\n",
              "        )\n",
              "      )\n",
              "      (1): BasicBlock(\n",
              "        (conv1): Conv2d(256, 256, kernel_size=(3, 3), stride=(1, 1), padding=(1, 1), bias=False)\n",
              "        (bn1): BatchNorm2d(256, eps=1e-05, momentum=0.1, affine=True, track_running_stats=True)\n",
              "        (relu): ReLU(inplace=True)\n",
              "        (conv2): Conv2d(256, 256, kernel_size=(3, 3), stride=(1, 1), padding=(1, 1), bias=False)\n",
              "        (bn2): BatchNorm2d(256, eps=1e-05, momentum=0.1, affine=True, track_running_stats=True)\n",
              "      )\n",
              "    )\n",
              "    (7): Sequential(\n",
              "      (0): BasicBlock(\n",
              "        (conv1): Conv2d(256, 512, kernel_size=(3, 3), stride=(2, 2), padding=(1, 1), bias=False)\n",
              "        (bn1): BatchNorm2d(512, eps=1e-05, momentum=0.1, affine=True, track_running_stats=True)\n",
              "        (relu): ReLU(inplace=True)\n",
              "        (conv2): Conv2d(512, 512, kernel_size=(3, 3), stride=(1, 1), padding=(1, 1), bias=False)\n",
              "        (bn2): BatchNorm2d(512, eps=1e-05, momentum=0.1, affine=True, track_running_stats=True)\n",
              "        (downsample): Sequential(\n",
              "          (0): Conv2d(256, 512, kernel_size=(1, 1), stride=(2, 2), bias=False)\n",
              "          (1): BatchNorm2d(512, eps=1e-05, momentum=0.1, affine=True, track_running_stats=True)\n",
              "        )\n",
              "      )\n",
              "      (1): BasicBlock(\n",
              "        (conv1): Conv2d(512, 512, kernel_size=(3, 3), stride=(1, 1), padding=(1, 1), bias=False)\n",
              "        (bn1): BatchNorm2d(512, eps=1e-05, momentum=0.1, affine=True, track_running_stats=True)\n",
              "        (relu): ReLU(inplace=True)\n",
              "        (conv2): Conv2d(512, 512, kernel_size=(3, 3), stride=(1, 1), padding=(1, 1), bias=False)\n",
              "        (bn2): BatchNorm2d(512, eps=1e-05, momentum=0.1, affine=True, track_running_stats=True)\n",
              "      )\n",
              "    )\n",
              "  )\n",
              "  (gap): AdaptiveAvgPool2d(output_size=(1, 1))\n",
              "  (fc): Linear(in_features=512, out_features=5, bias=True)\n",
              "  (p_fc): Linear(in_features=61952, out_features=136, bias=True)\n",
              ")"
            ]
          },
          "metadata": {
            "tags": []
          },
          "execution_count": 41
        }
      ]
    },
    {
      "cell_type": "code",
      "metadata": {
        "id": "nxEqD2hRZp2t"
      },
      "source": [
        "mtcnn = torch.load('drive/MyDrive/ML_Final/Models/Final_Models/mt-cnn_fin.pt')"
      ],
      "execution_count": 42,
      "outputs": []
    },
    {
      "cell_type": "code",
      "metadata": {
        "id": "yp3dZeAZAAuO"
      },
      "source": [
        "class Dataset(Dataset):\n",
        "    \n",
        "    def __init__(self, images, labels, detector_path):\n",
        "        #data = np.load(file_path,allow_pickle=True)\n",
        "        landmark_detector = dlib.shape_predictor(detector_path)\n",
        "        #self.features = data[\"x\"]\n",
        "        self.features = images\n",
        "        print(self.features.shape)\n",
        "\n",
        "        ## Regenerating Facial Landmarks\n",
        "        self.landmarks = []\n",
        "        for img in self.features:\n",
        "          rect = dlib.rectangle(0,0,img.shape[1],img.shape[0])\n",
        "          landmark_curr = landmark_detector(img,rect)\n",
        "          temp = [i.x for i in landmark_curr.parts()]\n",
        "          for i in landmark_curr.parts():\n",
        "            temp.append(i.y)\n",
        "          self.landmarks.append(temp)\n",
        "        self.landmarks = np.array(self.landmarks)\n",
        "\n",
        "\n",
        "\n",
        "        ## Scaling and normalizing features\n",
        "        self.features = self.features.astype(np.float32) / 255.0\n",
        "        sum_m,sum_std = 0,0\n",
        "        for img in self.features:\n",
        "          sum_m += img.mean()\n",
        "          sum_std += img.std()\n",
        "        m = sum_m / self.features.shape[0]\n",
        "        s = sum_std / self.features.shape[0]\n",
        "\n",
        "        ### Duplicating to 3 channels -- choosing not to resize\n",
        "        imgs_arr = []\n",
        "        for img in self.features:\n",
        "        #  new_im = transform.resize(img,(224,224))\n",
        "        ## each needs three \"channels\"\n",
        "           imgs_arr.append([img,img,img])\n",
        "        self.features = np.array(imgs_arr)\n",
        "        \n",
        "        #showing updated shape\n",
        "        print(self.features.shape)\n",
        "        self.features = (self.features - m) / s\n",
        "        self.labels = labels\n",
        "    def __len__(self):\n",
        "        return len(self.labels)\n",
        "    def __getitem__(self, index):\n",
        "        feature = np.expand_dims(self.features[index,:,:],0)\n",
        "        label = self.labels[index]\n",
        "        pts = self.landmarks[index]\n",
        "        return feature, label, pts"
      ],
      "execution_count": 43,
      "outputs": []
    },
    {
      "cell_type": "code",
      "metadata": {
        "colab": {
          "base_uri": "https://localhost:8080/"
        },
        "id": "sdWs5rgvp53h",
        "outputId": "8f9e3471-4573-4953-c3e7-97c03c773bd4"
      },
      "source": [
        "data = Dataset(images, labels,'drive/MyDrive/ML_Final/shape_predictor_68_face_landmarks.dat')"
      ],
      "execution_count": 44,
      "outputs": [
        {
          "output_type": "stream",
          "text": [
            "(60, 350, 350)\n",
            "(60, 3, 350, 350)\n"
          ],
          "name": "stdout"
        }
      ]
    },
    {
      "cell_type": "code",
      "metadata": {
        "id": "UGcYhei5qtyU"
      },
      "source": [
        "loader = DataLoader(data, batch_size=1, shuffle=True,drop_last=False)"
      ],
      "execution_count": 45,
      "outputs": []
    },
    {
      "cell_type": "code",
      "metadata": {
        "id": "moa9hYolq1B0"
      },
      "source": [
        "mtl.eval()\n",
        "pred_test = []\n",
        "lab_test= []\n",
        "\n",
        "for data in loader:\n",
        "    feature, label, points = data\n",
        "    feature = feature.view(1,3,350,350)\n",
        "    feature, label,points = feature.to(device),label.to(device),points.to(device)\n",
        "\n",
        "    ft = feature.type(torch.FloatTensor if not torch.cuda.is_available() else torch.cuda.FloatTensor)\n",
        "    lb = label.type(torch.cuda.FloatTensor if torch.cuda.is_available() else torch.FloatTensor)\n",
        "    pt = points.type(torch.cuda.FloatTensor if torch.cuda.is_available() else torch.FloatTensor)\n",
        "\n",
        "\n",
        "\n",
        "    lab_test.append(label)\n",
        "    print(feature.shape)\n",
        "    #pred_test.append(torch.argmax(mtl.model(feature.type(torch.FloatTensor if not torch.cuda.is_available() else torch.cuda.FloatTensor))[0]))\n",
        "    pred_test.append(torch.argmax(mtl.model(feature.type(torch.cuda.FloatTensor))[0]))"
      ],
      "execution_count": null,
      "outputs": []
    },
    {
      "cell_type": "code",
      "metadata": {
        "id": "eEsoL43N_U_8"
      },
      "source": [
        "mtl.eval()\n",
        "mtl.model.eval()\n",
        "pred_train = []\n",
        "lab_train = []\n",
        "\n",
        "for data in loader:\n",
        "    feature, label, points = data\n",
        "    feature = feature.view(1,3,350,350)\n",
        "    feature, label,points = feature.to(device),label.to(device),points.to(device)\n",
        "\n",
        "    ft = feature.type(torch.FloatTensor if not torch.cuda.is_available() else torch.cuda.FloatTensor)\n",
        "    lb = label.type(torch.cuda.FloatTensor if torch.cuda.is_available() else torch.FloatTensor)\n",
        "    pt = points.type(torch.cuda.FloatTensor if torch.cuda.is_available() else torch.FloatTensor)\n",
        "\n",
        "\n",
        "\n",
        "    lab_train.append(label)\n",
        "    pred_train.append(torch.argmax(mtl.model(feature.type(torch.FloatTensor if not torch.cuda.is_available() else \n",
        "                                                      torch.cuda.FloatTensor))[0]))"
      ],
      "execution_count": 47,
      "outputs": []
    },
    {
      "cell_type": "code",
      "metadata": {
        "colab": {
          "base_uri": "https://localhost:8080/"
        },
        "id": "o7yOrN5mBATZ",
        "outputId": "29e477d6-55e7-4bdf-eddf-07f678fc910b"
      },
      "source": [
        "pred_train = np.array(pred_train)\n",
        "lab_train = np.array(lab_train)\n",
        "print(\"train set accuracy: \" + str(np.sum(pred_train == lab_train) / len(lab_train)))"
      ],
      "execution_count": 49,
      "outputs": [
        {
          "output_type": "stream",
          "text": [
            "train set accuracy: 0.23333333333333334\n"
          ],
          "name": "stdout"
        }
      ]
    },
    {
      "cell_type": "markdown",
      "metadata": {
        "id": "xLJY5wqtBNPc"
      },
      "source": [
        "Similar to SVM, the MTCNN appears to struggle here. This is likely because, once again, we are relying on dlib to get landmarks, which are included as part of the loss function. Since dlib is not functioning properly here, it is as if we are giving the model poor data to use. As a result, it is not very surprising that the MTCNN struggles."
      ]
    },
    {
      "cell_type": "code",
      "metadata": {
        "id": "dIZ-i7KgBtO-"
      },
      "source": [
        ""
      ],
      "execution_count": null,
      "outputs": []
    }
  ]
}