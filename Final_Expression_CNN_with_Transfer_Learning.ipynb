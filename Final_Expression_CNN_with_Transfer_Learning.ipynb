{
  "nbformat": 4,
  "nbformat_minor": 0,
  "metadata": {
    "kernelspec": {
      "display_name": "Python 3",
      "language": "python",
      "name": "python3"
    },
    "language_info": {
      "codemirror_mode": {
        "name": "ipython",
        "version": 3
      },
      "file_extension": ".py",
      "mimetype": "text/x-python",
      "name": "python",
      "nbconvert_exporter": "python",
      "pygments_lexer": "ipython3",
      "version": "3.7.1"
    },
    "colab": {
      "name": "Final-Expression CNN with Transfer Learning.ipynb",
      "provenance": [],
      "collapsed_sections": [],
      "include_colab_link": true
    },
    "accelerator": "GPU"
  },
  "cells": [
    {
      "cell_type": "markdown",
      "metadata": {
        "id": "view-in-github",
        "colab_type": "text"
      },
      "source": [
        "<a href=\"https://colab.research.google.com/github/dshenker/ML2020FinalProject/blob/main/Final_Expression_CNN_with_Transfer_Learning.ipynb\" target=\"_parent\"><img src=\"https://colab.research.google.com/assets/colab-badge.svg\" alt=\"Open In Colab\"/></a>"
      ]
    },
    {
      "cell_type": "code",
      "metadata": {
        "id": "GjcSwo9peNiL"
      },
      "source": [
        "import torch\n",
        "import numpy as np\n",
        "import pandas as pd\n",
        "from torch.utils.data import Dataset, DataLoader, random_split\n",
        "import matplotlib.pyplot as plt\n",
        "from sklearn.linear_model import LogisticRegression\n",
        "from sklearn.preprocessing import OneHotEncoder, LabelEncoder, MinMaxScaler, normalize\n",
        "from sklearn.model_selection import train_test_split\n",
        "from sklearn.metrics import mean_squared_error\n",
        "from sklearn.metrics import confusion_matrix, classification_report\n",
        "from skimage import transform\n",
        "from torchvision import models"
      ],
      "execution_count": 2,
      "outputs": []
    },
    {
      "cell_type": "code",
      "metadata": {
        "colab": {
          "base_uri": "https://localhost:8080/"
        },
        "id": "lF4gKmna46u7",
        "outputId": "7360732e-1036-4746-f7f1-0f648ec5ebf6"
      },
      "source": [
        "device = torch.device('cuda' if torch.cuda.is_available() else 'cpu')\n",
        "device"
      ],
      "execution_count": 3,
      "outputs": [
        {
          "output_type": "execute_result",
          "data": {
            "text/plain": [
              "device(type='cuda')"
            ]
          },
          "metadata": {
            "tags": []
          },
          "execution_count": 3
        }
      ]
    },
    {
      "cell_type": "code",
      "metadata": {
        "id": "LHtRLSXmeNiO"
      },
      "source": [
        "#define dataset class\n",
        "class Dataset(Dataset):\n",
        "    \n",
        "    def __init__(self, file_path):\n",
        "        data = np.load(file_path)\n",
        "        #scaling images to 0 - 1\n",
        "        self.features = data[\"x\"]\n",
        "        self.features = self.features.astype(np.float32) / 255.0\n",
        "        \n",
        "        #going to try and normalize\n",
        "        sum_m,sum_std = 0,0\n",
        "        for img in self.features:\n",
        "          sum_m += img.mean()\n",
        "          sum_std += img.std()\n",
        "        m = sum_m / self.features.shape[0]\n",
        "        s = sum_std / self.features.shape[0]\n",
        "\n",
        "        #Option to resize and modify next portions a bit, here we just duplicate to \n",
        "        #three channels\n",
        "        imgs_arr = []\n",
        "        for img in self.features:\n",
        "        #   new_im = transform.resize(img,(224,224))\n",
        "        #   #each needs three \"channels\"\n",
        "           imgs_arr.append([img,img,img])\n",
        "        self.features = np.array(imgs_arr)\n",
        "\n",
        "        #printing finished shape\n",
        "        print(self.features.shape)\n",
        "\n",
        "        #Finishing normalization\n",
        "        self.features = (self.features - m) / s\n",
        "        self.labels = data[\"y\"]\n",
        "    def __len__(self):\n",
        "        return len(self.labels)\n",
        "    def __getitem__(self, index):\n",
        "        feature = np.expand_dims(self.features[index,:,:],0)\n",
        "        label = self.labels[index]\n",
        "        return feature, label"
      ],
      "execution_count": 4,
      "outputs": []
    },
    {
      "cell_type": "code",
      "metadata": {
        "colab": {
          "base_uri": "https://localhost:8080/"
        },
        "id": "1iGkyBzq1X2Z",
        "outputId": "e29908e3-3983-4177-bf2c-89a235af990b"
      },
      "source": [
        "from google.colab import drive\n",
        "drive.mount('/content/drive') #May need to add image_dataset.npz as shortcut to your \"MyDrive\", then cd into your MyDrive"
      ],
      "execution_count": 5,
      "outputs": [
        {
          "output_type": "stream",
          "text": [
            "Mounted at /content/drive\n"
          ],
          "name": "stdout"
        }
      ]
    },
    {
      "cell_type": "code",
      "metadata": {
        "colab": {
          "base_uri": "https://localhost:8080/"
        },
        "id": "GeIDlts44Qbm",
        "outputId": "cc2fed09-8e0d-4802-9573-c69cddd9e25a"
      },
      "source": [
        "!ls drive/MyDrive/ML_Final"
      ],
      "execution_count": 6,
      "outputs": [
        {
          "output_type": "stream",
          "text": [
            "'Confusion Matrices Tables.gdoc'    image_dataset_yale.npz\n",
            "'Copy of ML Presentation.gslides'  'ML Presentation.gslides'\n",
            " Data_Splits\t\t\t    Models\n",
            " facial_expressions-master\t    shape_predictor_68_face_landmarks.dat\n",
            " Figures\t\t\t    SVM_ConfusionMatrix.png\n",
            " github_labels_post.npy\t\t    SVM_Learning_Curve_Final.png\n",
            " image_dataset.npz\t\t    Upsampled_Data\n",
            "'image_dataset_upsample (1).npz'    yale_data\n",
            " image_dataset_upsample_final.npz   Yale_labels.npy\n",
            " image_dataset_upsample.npz\n"
          ],
          "name": "stdout"
        }
      ]
    },
    {
      "cell_type": "code",
      "metadata": {
        "id": "jM1p7PFSeNiO",
        "colab": {
          "base_uri": "https://localhost:8080/"
        },
        "outputId": "a753f04d-439b-4db7-eb91-f7685cc59c3a"
      },
      "source": [
        "## load data\n",
        "data = Dataset(\"drive/MyDrive/ML_Final/image_dataset_upsample_final.npz\")\n",
        "train_size = int(0.8*len(data))\n",
        "dev_size = int(0.1*len(data))\n",
        "test_size = len(data) - train_size - dev_size\n"
      ],
      "execution_count": 7,
      "outputs": [
        {
          "output_type": "stream",
          "text": [
            "(1500, 3, 350, 350)\n"
          ],
          "name": "stdout"
        }
      ]
    },
    {
      "cell_type": "code",
      "metadata": {
        "colab": {
          "base_uri": "https://localhost:8080/"
        },
        "id": "N72sNmvME3ge",
        "outputId": "93cf65eb-54d5-4294-82fc-92494707c906"
      },
      "source": [
        "## Get data labels and numbers per label\n",
        "np.unique(data.labels,return_counts=True)"
      ],
      "execution_count": null,
      "outputs": [
        {
          "output_type": "execute_result",
          "data": {
            "text/plain": [
              "(array([0, 1, 2, 3, 4]), array([300, 300, 300, 300, 300]))"
            ]
          },
          "metadata": {
            "tags": []
          },
          "execution_count": 9
        }
      ]
    },
    {
      "cell_type": "code",
      "metadata": {
        "id": "BRVJbM88eNiO"
      },
      "source": [
        "# Create dataloader object for data\n",
        "train_data, dev_data, test_data = random_split(data, [train_size,dev_size,test_size],generator=torch.Generator().manual_seed(111))\n",
        "trainloader = DataLoader(train_data, batch_size=64, shuffle=True,drop_last=False)\n",
        "evalloader = DataLoader(train_data, batch_size=1, shuffle=True,drop_last=False)\n",
        "devloader = DataLoader(dev_data, batch_size=1, shuffle=True,drop_last=False)\n",
        "testloader = DataLoader(test_data, batch_size=1, shuffle=True,drop_last=False)"
      ],
      "execution_count": 8,
      "outputs": []
    },
    {
      "cell_type": "code",
      "metadata": {
        "id": "IiT-YHHSeNiO"
      },
      "source": [
        "## define network -- this is the model we tried but were only able to attain \n",
        "# around 50% accuracy with\n",
        "class Model(torch.nn.Module):\n",
        "    def __init__(self):\n",
        "        super(Model, self).__init__()\n",
        "\n",
        "        self.pool = torch.nn.MaxPool2d(2)\n",
        "\n",
        "        self.layer1 = torch.nn.Conv2d(1,16,3)\n",
        "        self.batch1 = torch.nn.BatchNorm2d(16)\n",
        "\n",
        "        self.layer2 = torch.nn.Conv2d(16,32,3)\n",
        "        self.batch2 = torch.nn.BatchNorm2d(32)\n",
        "\n",
        "        self.layer3 = torch.nn.Conv2d(32,64,3)\n",
        "        self.batch3 = torch.nn.BatchNorm2d(64)\n",
        "\n",
        "        self.layer4 = torch.nn.Conv2d(64,128,3)\n",
        "        self.batch4 = torch.nn.BatchNorm2d(128)\n",
        "\n",
        "        self.layer5 = torch.nn.Conv2d(128,256,3)\n",
        "        self.batch5 = torch.nn.BatchNorm2d(256)\n",
        "\n",
        "        self.avgpool = torch.nn.AvgPool2d(6)\n",
        "        # self.drop = torch.nn.Dropout(p=.5)\n",
        "        self.fc1 = torch.nn.Linear(256*3*3,12)\n",
        "        self.fc2 = torch.nn.Linear(12,5)\n",
        "        self.relu = torch.nn.ReLU()\n",
        "    def forward(self,x):\n",
        "\n",
        "        x = self.batch1(self.layer1(x))\n",
        "        x = self.pool(self.relu(x))\n",
        "        \n",
        "        x = self.batch2(self.layer2(x))\n",
        "        x = self.pool(self.relu(x))\n",
        "        \n",
        "        x = self.batch3(self.layer3(x))\n",
        "        x = self.pool(self.relu(x))\n",
        "\n",
        "        x = self.batch4(self.layer4(x))\n",
        "        x = self.pool(self.relu(x))\n",
        "        \n",
        "        x = self.batch5(self.layer5(x))\n",
        "        x = self.avgpool(self.relu(x))\n",
        "\n",
        "        x = x.view(x.size(0), -1)\n",
        "        x = self.relu(self.fc1(x))\n",
        "        x = self.fc2(x)\n",
        "        return x\n",
        "\n",
        "# model = Model()\n",
        "# model.to(device)"
      ],
      "execution_count": 9,
      "outputs": []
    },
    {
      "cell_type": "code",
      "metadata": {
        "id": "hB6Q0VU1wSxN"
      },
      "source": [
        "## Instead we will be using a pretrained model based on resnet18\n",
        "\n",
        "model_ft = models.resnet18(pretrained=True)\n",
        "#replacing linear output layer\n",
        "model_ft.fc = torch.nn.Linear(model_ft.fc.in_features,6)\n",
        "model = model_ft.to(device)"
      ],
      "execution_count": 25,
      "outputs": []
    },
    {
      "cell_type": "code",
      "metadata": {
        "id": "eXG6PHjWeNiO"
      },
      "source": [
        "criterion = torch.nn.CrossEntropyLoss()\n",
        "optimizer = torch.optim.Adam(model.parameters(), lr=.001)\n",
        "epochs = 25"
      ],
      "execution_count": 27,
      "outputs": []
    },
    {
      "cell_type": "code",
      "metadata": {
        "id": "gzF4XL6DeNiO",
        "colab": {
          "base_uri": "https://localhost:8080/"
        },
        "outputId": "71e6a7b5-b25e-4d96-d38f-834563b59ed8"
      },
      "source": [
        "#train model\n",
        "model.train()\n",
        "epoch_loss = []\n",
        "dev_epoch_loss = []\n",
        "dev_accs = []\n",
        "for i in range(epochs):\n",
        "    cur_loss = 0\n",
        "    dev_curr_loss = 0\n",
        "    for data in trainloader:\n",
        "        \n",
        "        feature, label = data\n",
        "        feature = feature.squeeze()\n",
        "        feature, label = feature.to(device),label.to(device)\n",
        "  \n",
        "        optimizer.zero_grad()\n",
        "        pred = model(feature.type(torch.FloatTensor if not torch.cuda.is_available() else torch.cuda.FloatTensor))\n",
        "        loss = criterion(pred, label.type(torch.LongTensor if not torch.cuda.is_available() else torch.cuda.LongTensor))\n",
        "        cur_loss += float(loss) #need to include float or it will track and waste memory\n",
        "        loss.backward()\n",
        "        optimizer.step()\n",
        "\n",
        "\n",
        "    ## Get dev loss + accuracy\n",
        "    model.eval()\n",
        "\n",
        "    trn_dev = []\n",
        "    trn_preds = []\n",
        "    \n",
        "\n",
        "    for data in devloader:\n",
        "      feature, label = data\n",
        "      feature = feature.view(1,3,350,350)\n",
        "      feature, label = feature.to(device),label.to(device)\n",
        "      pred = model(feature.type(torch.FloatTensor if not torch.cuda.is_available() else torch.cuda.FloatTensor))\n",
        "      dev_loss = criterion(pred, label.type(torch.LongTensor if not torch.cuda.is_available() else torch.cuda.LongTensor))\n",
        "      dev_curr_loss += float(loss)\n",
        "\n",
        "      trn_dev.append(label)\n",
        "      trn_preds.append(torch.argmax(pred))\n",
        "\n",
        "    trn_preds = np.array(trn_preds)\n",
        "    trn_dev = np.array(trn_dev)\n",
        "    print(\"dev set accuracy: \" + str(np.sum(trn_preds == trn_dev) / len(trn_dev)))\n",
        "    \n",
        "    model.train()\n",
        "    print(f'train loss: {float(cur_loss)}, dev loss: {float(dev_curr_loss)}')\n",
        "    dev_epoch_loss.append(dev_curr_loss)\n",
        "    epoch_loss.append(cur_loss)\n",
        "    dev_accs.append(np.sum(trn_preds == trn_dev) / len(trn_dev))\n"
      ],
      "execution_count": 28,
      "outputs": [
        {
          "output_type": "stream",
          "text": [
            "dev set accuracy: 0.38\n",
            "train loss: 23.86118495464325, dev loss: 148.25319349765778\n",
            "dev set accuracy: 0.5333333333333333\n",
            "train loss: 12.774923741817474, dev loss: 115.94834625720978\n",
            "dev set accuracy: 0.5133333333333333\n",
            "train loss: 8.670939415693283, dev loss: 84.41579639911652\n",
            "dev set accuracy: 0.54\n",
            "train loss: 5.118138462305069, dev loss: 51.4998123049736\n",
            "dev set accuracy: 0.7066666666666667\n",
            "train loss: 3.1239221543073654, dev loss: 42.94666796922684\n",
            "dev set accuracy: 0.7733333333333333\n",
            "train loss: 2.19170343875885, dev loss: 32.35894963145256\n",
            "dev set accuracy: 0.76\n",
            "train loss: 2.282114490866661, dev loss: 38.90068978071213\n",
            "dev set accuracy: 0.6\n",
            "train loss: 1.9527853727340698, dev loss: 22.14297205209732\n",
            "dev set accuracy: 0.8066666666666666\n",
            "train loss: 1.617336293682456, dev loss: 19.12206932902336\n",
            "dev set accuracy: 0.7666666666666667\n",
            "train loss: 1.4881203509867191, dev loss: 13.03853653371334\n",
            "dev set accuracy: 0.74\n",
            "train loss: 0.8973639998584986, dev loss: 3.3953167498111725\n",
            "dev set accuracy: 0.7466666666666667\n",
            "train loss: 0.6461476655676961, dev loss: 2.811057586222887\n",
            "dev set accuracy: 0.8133333333333334\n",
            "train loss: 0.46498953318223357, dev loss: 1.7051293049007654\n",
            "dev set accuracy: 0.8066666666666666\n",
            "train loss: 0.16843436402268708, dev loss: 0.6761349504813552\n",
            "dev set accuracy: 0.8133333333333334\n",
            "train loss: 0.06102417450165376, dev loss: 0.3577728755772114\n",
            "dev set accuracy: 0.82\n",
            "train loss: 0.028735781437717378, dev loss: 0.12349836761131883\n",
            "dev set accuracy: 0.8533333333333334\n",
            "train loss: 0.018632000865181908, dev loss: 0.37009333027526736\n",
            "dev set accuracy: 0.8466666666666667\n",
            "train loss: 0.01312431279802695, dev loss: 0.0888421229319647\n",
            "dev set accuracy: 0.8466666666666667\n",
            "train loss: 0.012399004015605897, dev loss: 0.056417529413010925\n",
            "dev set accuracy: 0.86\n",
            "train loss: 0.01022385542455595, dev loss: 0.08123485604301095\n",
            "dev set accuracy: 0.86\n",
            "train loss: 0.009215472644427791, dev loss: 0.03633783562690951\n",
            "dev set accuracy: 0.8533333333333334\n",
            "train loss: 0.005740960841649212, dev loss: 0.0372384165530093\n",
            "dev set accuracy: 0.8533333333333334\n",
            "train loss: 0.006711257607094012, dev loss: 0.044257954868953675\n",
            "dev set accuracy: 0.86\n",
            "train loss: 0.006082490159315057, dev loss: 0.05007752770325169\n",
            "dev set accuracy: 0.8466666666666667\n",
            "train loss: 0.0065852646075654775, dev loss: 0.077203763066791\n"
          ],
          "name": "stdout"
        }
      ]
    },
    {
      "cell_type": "code",
      "metadata": {
        "id": "Ti-8ABgDeNiO",
        "colab": {
          "base_uri": "https://localhost:8080/",
          "height": 295
        },
        "outputId": "e0ea61f3-cc24-412f-b364-f5cc2efb9531"
      },
      "source": [
        "plt.plot(epoch_loss)\n",
        "plt.title('CNN Training Loss')\n",
        "plt.ylabel('Loss')\n",
        "plt.xlabel('Epoch')\n",
        "\n",
        "plt.savefig('./Training Loss.png')\n",
        "plt.show()"
      ],
      "execution_count": 41,
      "outputs": [
        {
          "output_type": "display_data",
          "data": {
            "image/png": "[encoded data removed]",
            "text/plain": [
              "<Figure size 432x288 with 1 Axes>"
            ]
          },
          "metadata": {
            "tags": [],
            "needs_background": "light"
          }
        }
      ]
    },
    {
      "cell_type": "code",
      "metadata": {
        "colab": {
          "base_uri": "https://localhost:8080/",
          "height": 295
        },
        "id": "1JNlKQB_OtSx",
        "outputId": "5f87bd78-0dba-4973-a782-00f8107a05e0"
      },
      "source": [
        "plt.plot(dev_epoch_loss)\n",
        "plt.title('CNN Dev Loss')\n",
        "plt.ylabel('Loss')\n",
        "plt.xlabel('Epoch')\n",
        "\n",
        "plt.savefig('./Dev Loss.png')\n",
        "plt.show()"
      ],
      "execution_count": 42,
      "outputs": [
        {
          "output_type": "display_data",
          "data": {
            "image/png": "[encoded data removed]",
            "text/plain": [
              "<Figure size 432x288 with 1 Axes>"
            ]
          },
          "metadata": {
            "tags": [],
            "needs_background": "light"
          }
        }
      ]
    },
    {
      "cell_type": "code",
      "metadata": {
        "id": "OuDbZYXfB7Oo",
        "colab": {
          "base_uri": "https://localhost:8080/",
          "height": 295
        },
        "outputId": "e5eeb153-7a76-4dcd-c2dc-6f715c70d63a"
      },
      "source": [
        "plt.plot(dev_accs)\n",
        "plt.title('CNN Dev Accuracy ')\n",
        "plt.ylabel('Accuracy')\n",
        "plt.xlabel('Epoch')\n",
        "\n",
        "plt.savefig('./Dev_Acc.png')\n",
        "plt.show()"
      ],
      "execution_count": 43,
      "outputs": [
        {
          "output_type": "display_data",
          "data": {
            "image/png": "[encoded data removed]",
            "text/plain": [
              "<Figure size 432x288 with 1 Axes>"
            ]
          },
          "metadata": {
            "tags": [],
            "needs_background": "light"
          }
        }
      ]
    },
    {
      "cell_type": "code",
      "metadata": {
        "id": "MXGPrBaWeNiQ"
      },
      "source": [
        "#train set performance\n",
        "model.eval()\n",
        "pred_train = []\n",
        "lab_train = []\n",
        "for data in evalloader:\n",
        "    feature, label = data\n",
        "    feature = feature.view(1,3,350,350)\n",
        "    feature, label = feature.to(device),label.to(device)\n",
        "    lab_train.append(label)\n",
        "    pred_train.append(torch.argmax(model(feature.type(torch.FloatTensor if not torch.cuda.is_available() else \n",
        "                                                      torch.cuda.FloatTensor))))"
      ],
      "execution_count": 44,
      "outputs": []
    },
    {
      "cell_type": "code",
      "metadata": {
        "id": "kFTnd7vqeNiQ",
        "colab": {
          "base_uri": "https://localhost:8080/"
        },
        "outputId": "f4f0a6d5-b4cb-4b9c-887b-645c14f78990"
      },
      "source": [
        "pred_train = np.array(pred_train)\n",
        "lab_train = np.array(lab_train)\n",
        "print(\"train set accuracy: \" + str(np.sum(pred_train == lab_train) / len(lab_train)))"
      ],
      "execution_count": 45,
      "outputs": [
        {
          "output_type": "stream",
          "text": [
            "train set accuracy: 1.0\n"
          ],
          "name": "stdout"
        }
      ]
    },
    {
      "cell_type": "code",
      "metadata": {
        "id": "GYHmbk-CeNiR"
      },
      "source": [
        "#dev set performance\n",
        "pred_dev = []\n",
        "lab_dev = []\n",
        "for data in devloader:\n",
        "    feature, label = data\n",
        "    feature = feature.view(1,3,350,350)\n",
        "    feature, label = feature.to(device),label.to(device)\n",
        "    lab_dev.append(label)\n",
        "    pred_dev.append(torch.argmax(model(feature.type(torch.FloatTensor if not torch.cuda.is_available() else torch.cuda.FloatTensor))))"
      ],
      "execution_count": 46,
      "outputs": []
    },
    {
      "cell_type": "code",
      "metadata": {
        "id": "Y6TKZ6w9eNiR",
        "colab": {
          "base_uri": "https://localhost:8080/"
        },
        "outputId": "be9786bd-30dc-467f-f84a-e21d9cd67a8c"
      },
      "source": [
        "pred_dev = np.array(pred_dev)\n",
        "lab_dev = np.array(lab_dev)\n",
        "print(\"dev set accuracy: \" + str(np.sum(pred_dev == lab_dev) / len(lab_dev)))"
      ],
      "execution_count": 52,
      "outputs": [
        {
          "output_type": "stream",
          "text": [
            "dev set accuracy: 0.8466666666666667\n"
          ],
          "name": "stdout"
        }
      ]
    },
    {
      "cell_type": "code",
      "metadata": {
        "id": "Gr6VwiUseNiR"
      },
      "source": [
        "#test set performance\n",
        "pred_test = []\n",
        "lab_test = []\n",
        "for data in testloader:\n",
        "    feature, label = data\n",
        "    feature = feature.view(1,3,350,350)\n",
        "    feature, label = feature.to(device),label.to(device)\n",
        "    res = torch.argmax(model(feature.type(torch.FloatTensor if not torch.cuda.is_available() else torch.cuda.FloatTensor)))\n",
        "    \n",
        "    if not torch.cuda.is_available():\n",
        "      lab_test.append(label)\n",
        "      pred_test.append(res)\n",
        "    else:\n",
        "      lab_test.append(label.to('cpu'))\n",
        "      pred_test.append(res.to('cpu'))\n",
        "    \n",
        "    \n"
      ],
      "execution_count": 48,
      "outputs": []
    },
    {
      "cell_type": "code",
      "metadata": {
        "id": "uVEHSCVgeNiR",
        "colab": {
          "base_uri": "https://localhost:8080/"
        },
        "outputId": "2173dab8-d45a-4e73-8191-5657b169cefe"
      },
      "source": [
        "pred_test = np.array(pred_test)\n",
        "lab_test = np.array(lab_test)\n",
        "print(\"test set accuracy: \" + str(np.sum(pred_test == lab_test) / len(lab_test)))"
      ],
      "execution_count": 53,
      "outputs": [
        {
          "output_type": "stream",
          "text": [
            "test set accuracy: 0.8466666666666667\n"
          ],
          "name": "stdout"
        }
      ]
    },
    {
      "cell_type": "code",
      "metadata": {
        "id": "r-drjhuMeIIY"
      },
      "source": [
        "torch.save(model,'./cnn_fin.pt')"
      ],
      "execution_count": 50,
      "outputs": []
    },
    {
      "cell_type": "code",
      "metadata": {
        "id": "Um9KXZxXeNiR",
        "colab": {
          "base_uri": "https://localhost:8080/"
        },
        "outputId": "ee32ccdb-edd5-46f8-8fdd-2acb4a131a02"
      },
      "source": [
        "conf_norm = normalize(confusion_matrix(lab_test,pred_test), norm=\"l1\")\n",
        "conf_norm = np.round(conf_norm, 2)\n",
        "print(conf_norm)\n"
      ],
      "execution_count": 51,
      "outputs": [
        {
          "output_type": "stream",
          "text": [
            "[[0.93 0.   0.04 0.04 0.  ]\n",
            " [0.   0.78 0.15 0.02 0.05]\n",
            " [0.   0.09 0.77 0.05 0.09]\n",
            " [0.   0.   0.04 0.93 0.04]\n",
            " [0.03 0.06 0.06 0.   0.84]]\n"
          ],
          "name": "stdout"
        }
      ]
    },
    {
      "cell_type": "markdown",
      "metadata": {
        "id": "qCXIYQvutkjS"
      },
      "source": [
        "SVM confusion matrix for reference:\n",
        "![image.png](data:image/png;base64,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)"
      ]
    },
    {
      "cell_type": "markdown",
      "metadata": {
        "id": "PYOO-w_br2Pb"
      },
      "source": [
        "Expressions in order: anger, disgust, happiness, neutral, sadness, surprise\n",
        "All of disgust was predicted as happiness??\n",
        "Anger often confused with happiness and surprise\n",
        "Happiness and neutral generally correct\n",
        "Sadness usually predicted as neutral\n",
        "Surprise ok, sometimes confused with anger and neutral"
      ]
    },
    {
      "cell_type": "code",
      "metadata": {
        "id": "NrW0PyQ3eNiR",
        "colab": {
          "base_uri": "https://localhost:8080/"
        },
        "outputId": "4b21dd56-b777-471e-e6f2-fa73db11e2c8"
      },
      "source": [
        "print(classification_report(lab_test,pred_test))"
      ],
      "execution_count": null,
      "outputs": [
        {
          "output_type": "stream",
          "text": [
            "              precision    recall  f1-score   support\n",
            "\n",
            "           0       0.84      0.93      0.88        28\n",
            "           1       0.94      0.78      0.85        41\n",
            "           2       0.67      0.82      0.73        22\n",
            "           3       0.92      0.86      0.89        28\n",
            "           4       0.84      0.87      0.86        31\n",
            "\n",
            "    accuracy                           0.85       150\n",
            "   macro avg       0.84      0.85      0.84       150\n",
            "weighted avg       0.86      0.85      0.85       150\n",
            "\n"
          ],
          "name": "stdout"
        }
      ]
    },
    {
      "cell_type": "code",
      "metadata": {
        "id": "jIDpS7i7eNiR"
      },
      "source": [
        "!cp ./cnn.pt drive/MyDrive/ML_Final/Models/Final_Models/"
      ],
      "execution_count": null,
      "outputs": []
    }
  ]
}